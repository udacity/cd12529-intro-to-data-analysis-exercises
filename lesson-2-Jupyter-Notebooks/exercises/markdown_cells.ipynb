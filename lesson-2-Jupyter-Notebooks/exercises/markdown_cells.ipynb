{
 "cells": [
  {
   "cell_type": "markdown",
   "id": "f95bb9ce",
   "metadata": {},
   "source": [
    "## Introduction to Markdown Cells\n",
    "Explore the notebook below to learn about Markdown. Double click on the cell to open and edit it. Click the RUN button or use SHIFT+ENTER to commit what you wrote!"
   ]
  },
  {
   "cell_type": "markdown",
   "id": "d526a4ef",
   "metadata": {},
   "source": [
    "# This is a header\n",
    "## Writing Markdown\n",
    "\n",
    "This is a [link to the Markdown documentation.](https://daringfireball.net/projects/markdown/)\n",
    "\n",
    "You can emphasize text with *italics* or **boldness**. So __bold__.\n",
    "\n",
    "Writing code is easy here too with backticks: `import gravity`.\n",
    "\n",
    "    import gravity\n",
    "    code = block\n",
    "    \n",
    "And write $\\LaTeX$ (LaTeX) too. How about some inline math $y = mx + b$, and a math block\n",
    "\n",
    "$$\n",
    "e^x = \\sum_{n=0}^{\\infty}\\frac{x^n}{x!}\n",
    "$$"
   ]
  },
  {
   "cell_type": "markdown",
   "id": "73530fcc",
   "metadata": {},
   "source": [
    "## Here is an image\n",
    "![image](files/cat.jpeg)"
   ]
  }
 ],
 "metadata": {
  "kernelspec": {
   "display_name": "Python 3 (ipykernel)",
   "language": "python",
   "name": "python3"
  },
  "language_info": {
   "codemirror_mode": {
    "name": "ipython",
    "version": 3
   },
   "file_extension": ".py",
   "mimetype": "text/x-python",
   "name": "python",
   "nbconvert_exporter": "python",
   "pygments_lexer": "ipython3",
   "version": "3.10.9"
  }
 },
 "nbformat": 4,
 "nbformat_minor": 5
}
