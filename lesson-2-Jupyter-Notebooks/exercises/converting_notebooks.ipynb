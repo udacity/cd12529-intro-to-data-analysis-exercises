{
 "cells": [
  {
   "cell_type": "markdown",
   "id": "c7548ce6-0f43-4e5a-af84-b92e1c644e5d",
   "metadata": {},
   "source": [
    "# Converting Notebooks\n",
    "Use nbconvert to convert your notebook to various forms. Execute each cell and find the results in the workspace directory."
   ]
  },
  {
   "cell_type": "code",
   "execution_count": null,
   "id": "22b97956-295a-4038-995a-0f3e12041cca",
   "metadata": {
    "tags": []
   },
   "outputs": [],
   "source": [
    "!jupyter nbconvert --to notebook jupyter_intro.ipynb"
   ]
  },
  {
   "cell_type": "code",
   "execution_count": null,
   "id": "9f5a3608-0d25-4ae2-9af4-be29be3dfb22",
   "metadata": {
    "tags": []
   },
   "outputs": [],
   "source": [
    "!jupyter nbconvert --to markdown jupyter_intro.ipynb"
   ]
  },
  {
   "cell_type": "code",
   "execution_count": null,
   "id": "cd293a8f-fee0-49f2-8551-517bb5044520",
   "metadata": {
    "tags": []
   },
   "outputs": [],
   "source": [
    "!jupyter nbconvert --to html jupyter_intro.ipynb"
   ]
  }
 ],
 "metadata": {
  "kernelspec": {
   "display_name": "Python 3 (ipykernel)",
   "language": "python",
   "name": "python3"
  },
  "language_info": {
   "codemirror_mode": {
    "name": "ipython",
    "version": 3
   },
   "file_extension": ".py",
   "mimetype": "text/x-python",
   "name": "python",
   "nbconvert_exporter": "python",
   "pygments_lexer": "ipython3",
   "version": "3.10.9"
  }
 },
 "nbformat": 4,
 "nbformat_minor": 5
}
