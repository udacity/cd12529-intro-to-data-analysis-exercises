{
 "cells": [
  {
   "cell_type": "markdown",
   "id": "e9182e63-6ee7-4059-a8dd-904c0b325a37",
   "metadata": {},
   "source": [
    "# Jupyter Notebook Magic Keywords"
   ]
  },
  {
   "cell_type": "markdown",
   "id": "345e0028-461b-4af1-a661-a655b72befc5",
   "metadata": {},
   "source": [
    "Let's take a look at some of Jupyter's magic keywords. Remember these are specific to the Python kernel, so running them on another language (R, Julia) will not work. If you are interested in more check [ipython magics](https://ipython.readthedocs.io/en/stable/interactive/magics.html)."
   ]
  },
  {
   "cell_type": "code",
   "execution_count": null,
   "id": "ac8a8071-9c4a-4ab8-97b0-b168dad07090",
   "metadata": {
    "tags": []
   },
   "outputs": [],
   "source": [
    "import random\n",
    "from math import sqrt"
   ]
  },
  {
   "cell_type": "markdown",
   "id": "92b75d00-24be-4c54-92bd-d17021322fb5",
   "metadata": {
    "tags": []
   },
   "source": [
    "## timeit"
   ]
  },
  {
   "cell_type": "markdown",
   "id": "4cae3665-b58d-4ff8-a038-3bf3381fa85d",
   "metadata": {},
   "source": [
    "### Timing a Single Functin"
   ]
  },
  {
   "cell_type": "code",
   "execution_count": null,
   "id": "a1bd0989-1eac-4dd8-828a-dd7b1ecabdc6",
   "metadata": {
    "tags": []
   },
   "outputs": [],
   "source": [
    "def fibo_one(n): # Recursive Fibonacci number\n",
    "    if n == 0:\n",
    "        return 0\n",
    "    elif n == 1:\n",
    "        return 1\n",
    "    return fibo_one(n - 1) + fibo_one(n - 2)\n",
    "\n",
    "def fibo_two(n): # Closed form\n",
    "    return ((1 + sqrt(5)) ** n - (1 - sqrt(5)) ** n) / (2 ** n * sqrt(5))"
   ]
  },
  {
   "cell_type": "code",
   "execution_count": null,
   "id": "17b38165-6fa0-430d-a992-ba8747d63713",
   "metadata": {
    "tags": []
   },
   "outputs": [],
   "source": [
    "%timeit fibo_one(20)"
   ]
  },
  {
   "cell_type": "code",
   "execution_count": null,
   "id": "ad4e921b-4897-407c-b235-1e83b3cc34c5",
   "metadata": {
    "tags": []
   },
   "outputs": [],
   "source": [
    "%timeit fibo_two(20)"
   ]
  },
  {
   "cell_type": "markdown",
   "id": "7013613e-3231-411b-9731-977015c67290",
   "metadata": {},
   "source": [
    "### Timing a Single Cell"
   ]
  },
  {
   "cell_type": "code",
   "execution_count": null,
   "id": "50930a09-7fe3-49d6-a35c-8b83a2470c94",
   "metadata": {
    "tags": []
   },
   "outputs": [],
   "source": [
    "%%timeit\n",
    "# collect a prize for even rolls\n",
    "prize = 0\n",
    "for _ in range(100):\n",
    "    # roll a die\n",
    "    roll = random.randint(1, 6)\n",
    "    if roll % 2 == 0:\n",
    "        prize += roll\n",
    "    else:\n",
    "        prize -= 1"
   ]
  },
  {
   "cell_type": "code",
   "execution_count": null,
   "id": "d0c920a2-2864-44ce-a02c-a9dfe210ba80",
   "metadata": {
    "tags": []
   },
   "outputs": [],
   "source": [
    "%%timeit\n",
    "rolls = (random.randint(1, 6) for _ in range(100))\n",
    "prize = sum(roll if roll % 2 == 0 else -1 for roll in rolls)"
   ]
  },
  {
   "cell_type": "markdown",
   "id": "0371b052-11a1-48dd-8595-a4b8124b269f",
   "metadata": {},
   "source": [
    "## matplotlib"
   ]
  },
  {
   "cell_type": "code",
   "execution_count": null,
   "id": "a4282d82-f790-4751-aa0f-3e181646ca5a",
   "metadata": {
    "tags": []
   },
   "outputs": [],
   "source": [
    "%matplotlib inline"
   ]
  },
  {
   "cell_type": "markdown",
   "id": "f1b7f52f-e9c4-4e45-8977-1fbc0a40bc7a",
   "metadata": {},
   "source": [
    "This magic function is not needed if you are importing matplotlib or using packages such as pandas in your notebook. The function is registered while importing these packages behind the scenes.\n",
    "\n",
    "```python\n",
    "# Using either of these imports? No need to use %matplotlib inline\n",
    "import matplotlib.pyplot as plt\n",
    "import pandas as pd\n",
    "```"
   ]
  },
  {
   "cell_type": "code",
   "execution_count": null,
   "id": "e6f2c2fd-90e7-4d5c-a411-0350f2ece96b",
   "metadata": {
    "tags": []
   },
   "outputs": [],
   "source": [
    "import numpy as np\n",
    "import pandas as pd"
   ]
  },
  {
   "cell_type": "code",
   "execution_count": null,
   "id": "9d67133b-ffb1-4cde-88ff-ffe8fc427109",
   "metadata": {
    "tags": []
   },
   "outputs": [],
   "source": [
    "x = np.linspace(0, 1, 300)\n",
    "y = []\n",
    "for w in range(2, 6, 2):\n",
    "    y.append(np.sin(np.pi * x) * np.sin(2 * w * np.pi * x))"
   ]
  },
  {
   "cell_type": "code",
   "execution_count": null,
   "id": "0f6ce190-b672-447f-bbba-370a44db3909",
   "metadata": {
    "tags": []
   },
   "outputs": [],
   "source": [
    "df = pd.DataFrame({'x': x, 'y1': y[0], 'y2': y[1]});"
   ]
  },
  {
   "cell_type": "code",
   "execution_count": null,
   "id": "24d08def-d234-4b79-84c5-0525c2b7857a",
   "metadata": {
    "tags": []
   },
   "outputs": [],
   "source": [
    "df.plot(x='x');"
   ]
  },
  {
   "cell_type": "markdown",
   "id": "793d5d83-1247-46d6-9909-4cf6095074af",
   "metadata": {},
   "source": [
    "### Higher Resolution Inline Graphs"
   ]
  },
  {
   "cell_type": "code",
   "execution_count": null,
   "id": "e2b303fa-81e5-43f5-b3e8-c59618849cce",
   "metadata": {
    "tags": []
   },
   "outputs": [],
   "source": [
    "%config InlineBackend.figure_format = 'retina'"
   ]
  },
  {
   "cell_type": "code",
   "execution_count": null,
   "id": "dc35957f-1c22-4fcd-a025-88f898050f28",
   "metadata": {
    "tags": []
   },
   "outputs": [],
   "source": [
    "df.plot(x='x');"
   ]
  },
  {
   "cell_type": "code",
   "execution_count": null,
   "id": "39982f8a-dc95-47ac-be60-3dca862150c3",
   "metadata": {
    "tags": []
   },
   "outputs": [],
   "source": [
    "# To disable retina\n",
    "%config InlineBackend.figure_format = 'png'\n",
    "df.plot(x='x');"
   ]
  },
  {
   "cell_type": "markdown",
   "id": "487a302e-0a7b-4c6d-a2f8-28158dc3762e",
   "metadata": {},
   "source": [
    "## pdb"
   ]
  },
  {
   "cell_type": "markdown",
   "id": "ea5859c2-6bec-40be-87ba-29b5b37cb292",
   "metadata": {},
   "source": [
    "### Debugging in the Notebook"
   ]
  },
  {
   "cell_type": "code",
   "execution_count": null,
   "id": "3aba91e3-9915-435c-8d52-86530c96c6de",
   "metadata": {
    "tags": []
   },
   "outputs": [],
   "source": [
    "# Turn one the debugger\n",
    "%pdb"
   ]
  },
  {
   "cell_type": "code",
   "execution_count": null,
   "id": "6331bc56-df17-4b80-9f54-0e9412692fcd",
   "metadata": {
    "tags": []
   },
   "outputs": [],
   "source": [
    "numbers = 'hello'\n",
    "sum(numbers)"
   ]
  },
  {
   "cell_type": "markdown",
   "id": "b1a64daf-4bc6-42ec-aafe-290f56ef4b4e",
   "metadata": {},
   "source": [
    "Type `numbers` into the prompt to show the value of the variable `numbers`.\n",
    "To quit the debugger, enter `q` into the prompt."
   ]
  },
  {
   "cell_type": "code",
   "execution_count": null,
   "id": "f9b97715-531a-43c3-a138-43a972d76765",
   "metadata": {
    "tags": []
   },
   "outputs": [],
   "source": [
    "# Turn off the debugger\n",
    "%pdb"
   ]
  }
 ],
 "metadata": {
  "kernelspec": {
   "display_name": "Python 3 (ipykernel)",
   "language": "python",
   "name": "python3"
  },
  "language_info": {
   "codemirror_mode": {
    "name": "ipython",
    "version": 3
   },
   "file_extension": ".py",
   "mimetype": "text/x-python",
   "name": "python",
   "nbconvert_exporter": "python",
   "pygments_lexer": "ipython3",
   "version": "3.8.7"
  }
 },
 "nbformat": 4,
 "nbformat_minor": 5
}
