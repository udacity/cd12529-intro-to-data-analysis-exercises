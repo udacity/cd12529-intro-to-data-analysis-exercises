{
 "cells": [
  {
   "cell_type": "markdown",
   "id": "802f04e8-8bce-460e-9e74-5cc5c32e842f",
   "metadata": {},
   "source": [
    "# Data Type Optimization\n",
    "With the data we are working in this course, it is easy to take advantage of the abundant computer resources offered. Most of the datasets easily fit within memory. But what happens if your dataset is massive, say 64GB! You can either get a bigger machine, or you can see if optimizing how pandas handles the dataset provides another solution.\n",
    "\n",
    "Here we will take the `clean_08.csv` dataset we produced in the last lesson, *Fixing Data Types*, and show how altering the data types can shrink the memory footprint of a DataFrame."
   ]
  },
  {
   "cell_type": "code",
   "execution_count": null,
   "id": "b054ef6e-a46a-425e-9b51-60bb0f587237",
   "metadata": {
    "tags": []
   },
   "outputs": [],
   "source": [
    "import pandas as pd"
   ]
  },
  {
   "cell_type": "code",
   "execution_count": null,
   "id": "1ce0f8f1-a837-44b5-b7a7-1040ea2153a8",
   "metadata": {
    "tags": []
   },
   "outputs": [],
   "source": [
    "# read the clean_08 CSV\n",
    "df = pd.read_csv(\"clean_08.csv\")"
   ]
  },
  {
   "cell_type": "code",
   "execution_count": null,
   "id": "14ef6852-8ef9-4016-92e8-7fb369877703",
   "metadata": {
    "tags": []
   },
   "outputs": [],
   "source": [
    "# use .info() to view the current Dtypes, and the memory usage.\n",
    "df.info()"
   ]
  },
  {
   "cell_type": "markdown",
   "id": "cfa0a577-03d6-4d43-a139-d387edc5207a",
   "metadata": {},
   "source": [
    "### Numerical Optimization\n",
    "Currently the DataFrame is a mixture of objects, float64, and int64 data types. We can also see the memory usage - `100.4+ KB`\n",
    "\n",
    "Let's see what values are present in the `*_mpg` columns"
   ]
  },
  {
   "cell_type": "code",
   "execution_count": null,
   "id": "6d820159-5bf8-4b4b-97f0-92d428b66ed8",
   "metadata": {
    "tags": []
   },
   "outputs": [],
   "source": [
    "# find city_mpg value counts\n",
    "df.city_mpg.value_counts()"
   ]
  },
  {
   "cell_type": "code",
   "execution_count": null,
   "id": "969814d2-707b-4d85-bd2e-971a6ce94975",
   "metadata": {
    "tags": []
   },
   "outputs": [],
   "source": [
    "# find hwy_mpg value counts\n",
    "df.hwy_mpg.value_counts()"
   ]
  },
  {
   "cell_type": "code",
   "execution_count": null,
   "id": "e60ad1ce-cb48-4d2d-b673-01f570ff4293",
   "metadata": {
    "tags": []
   },
   "outputs": [],
   "source": [
    "# find cmb_mpg value counts\n",
    "df.cmb_mpg.value_counts()"
   ]
  },
  {
   "cell_type": "markdown",
   "id": "59714238-34cd-4b49-831b-7ba708009ea2",
   "metadata": {},
   "source": [
    "Even though the DataFrame labels it as float64, when inspecting each one they return `int64`. Let's change it to make it official."
   ]
  },
  {
   "cell_type": "code",
   "execution_count": null,
   "id": "66aaf9b1-3ed0-407a-8cd7-bc46727b2d02",
   "metadata": {
    "tags": []
   },
   "outputs": [],
   "source": [
    "# Change city_mpg, hwy_mpg, cmb_mpg to be an int using .astype()\n",
    "df[\"city_mpg\"] = df[\"city_mpg\"].astype(\"int\")\n",
    "df[\"hwy_mpg\"] = df[\"hwy_mpg\"].astype(\"int\")\n",
    "df[\"cmb_mpg\"] = df[\"cmb_mpg\"].astype(\"int\")"
   ]
  },
  {
   "cell_type": "code",
   "execution_count": null,
   "id": "b7615402-efae-4f87-b0e9-1c70b99724e8",
   "metadata": {
    "tags": []
   },
   "outputs": [],
   "source": [
    "# df info to view data type and memory usage changes\n",
    "df.info()"
   ]
  },
  {
   "cell_type": "markdown",
   "id": "9deba3e9-8d58-4b7b-87e8-c173119bea78",
   "metadata": {},
   "source": [
    "Well that did not change anything. Instead of an `int64`, let's change them to be `int8`. The values for each column only range from 8 - 48. Use `.describe()` to view the min/max of each column"
   ]
  },
  {
   "cell_type": "code",
   "execution_count": null,
   "id": "9b3ffcda-50e9-4fe2-a4ba-a5be9e49f32c",
   "metadata": {
    "tags": []
   },
   "outputs": [],
   "source": [
    "df[[\"city_mpg\", \"hwy_mpg\", \"cmb_mpg\"]].describe()"
   ]
  },
  {
   "cell_type": "code",
   "execution_count": null,
   "id": "6a37a6ea-d872-4076-8173-193b4aa781b4",
   "metadata": {
    "tags": []
   },
   "outputs": [],
   "source": [
    "# Change the data type to be an int8\n",
    "df[\"city_mpg\"] = df[\"city_mpg\"].astype(\"int8\")\n",
    "df[\"hwy_mpg\"] = df[\"hwy_mpg\"].astype(\"int8\")\n",
    "df[\"cmb_mpg\"] = df[\"cmb_mpg\"].astype(\"int8\")"
   ]
  },
  {
   "cell_type": "code",
   "execution_count": null,
   "id": "90ba6058-0187-4d02-a4e1-77487e889a80",
   "metadata": {
    "tags": []
   },
   "outputs": [],
   "source": [
    "# df info to view data type and memory usage changes\n",
    "df.info()"
   ]
  },
  {
   "cell_type": "markdown",
   "id": "308211c1-bb7b-435c-b45a-d718ad67d37e",
   "metadata": {},
   "source": [
    "Now we are getting somewhere! We just changed the memory usage from `100.4+ KB` to `80.1+ KB` by changing how we are storing our int values.\n",
    "\n",
    "How about changing how we store strings?"
   ]
  },
  {
   "cell_type": "markdown",
   "id": "64aa76e0-01c1-4102-9c49-38ec0d372199",
   "metadata": {},
   "source": [
    "### String Optimization\n",
    "Look at the value counts of each `object` data type: `trans`, `drive`, `fuel`, `veh_class`, `smartway`, and `model`."
   ]
  },
  {
   "cell_type": "code",
   "execution_count": null,
   "id": "03cf7d06-b8f4-46c7-9a7b-c3d766da6ae7",
   "metadata": {
    "tags": []
   },
   "outputs": [],
   "source": [
    "# find trans value counts\n",
    "df[\"trans\"].value_counts()"
   ]
  },
  {
   "cell_type": "code",
   "execution_count": null,
   "id": "c2d06520-4b4a-44cc-b0d7-173f6018d793",
   "metadata": {
    "tags": []
   },
   "outputs": [],
   "source": [
    "# find drive value counts\n",
    "df[\"drive\"].value_counts()"
   ]
  },
  {
   "cell_type": "code",
   "execution_count": null,
   "id": "15984250-6469-4ca5-818b-1aa8cce2cd03",
   "metadata": {
    "tags": []
   },
   "outputs": [],
   "source": [
    "# find fuel value counts\n",
    "df[\"fuel\"].value_counts()"
   ]
  },
  {
   "cell_type": "code",
   "execution_count": null,
   "id": "5e9ebf1c-0fb2-43e8-ab98-c4ef985f7038",
   "metadata": {
    "tags": []
   },
   "outputs": [],
   "source": [
    "# find veh_class value counts\n",
    "df[\"veh_class\"].value_counts()"
   ]
  },
  {
   "cell_type": "code",
   "execution_count": null,
   "id": "096aebc3-c1f1-46fd-b941-39931f3637f0",
   "metadata": {
    "tags": []
   },
   "outputs": [],
   "source": [
    "# find smartway value counts\n",
    "df[\"smartway\"].value_counts()"
   ]
  },
  {
   "cell_type": "code",
   "execution_count": null,
   "id": "e0d86938-bc26-4bb2-9a94-cc64582bf04f",
   "metadata": {
    "tags": []
   },
   "outputs": [],
   "source": [
    "# find model value counts\n",
    "df[\"model\"].value_counts()"
   ]
  },
  {
   "cell_type": "markdown",
   "id": "3767237b-2480-4683-99e8-513c0c507f48",
   "metadata": {},
   "source": [
    "Except for `model`, all of the object types have 2 - 13 unique values. In pandas there is a specialized data type called [Categorical](https://pandas.pydata.org/docs/user_guide/categorical.html#). Categorical data types are useful when you have object columns with a low number of unique values. You can create them as categories, and pandas will store those columns more efficiently.\n",
    "\n",
    "Let's change the 5 `object` columns to `category`"
   ]
  },
  {
   "cell_type": "code",
   "execution_count": null,
   "id": "7052d3fe-cb8a-4329-afcb-ceee0ca6f53f",
   "metadata": {
    "tags": []
   },
   "outputs": [],
   "source": [
    "# assign trans, drive, fuel, veh_class, and smartway to \"category\" using .astype()\n",
    "df[\"trans\"] = df[\"trans\"].astype(\"category\")\n",
    "df[\"drive\"] = df[\"drive\"].astype(\"category\")\n",
    "df[\"fuel\"] = df[\"fuel\"].astype(\"category\")\n",
    "df[\"veh_class\"] = df[\"veh_class\"].astype(\"category\")\n",
    "df[\"smartway\"] = df[\"smartway\"].astype(\"category\")"
   ]
  },
  {
   "cell_type": "code",
   "execution_count": null,
   "id": "58d13939-5bad-48bb-a55c-b6a8a29d62a1",
   "metadata": {
    "tags": []
   },
   "outputs": [],
   "source": [
    "# df info to view data type and memory usage changes\n",
    "df.info()"
   ]
  },
  {
   "cell_type": "markdown",
   "id": "2d5d8889-da6e-4986-b7b1-2ea08218d571",
   "metadata": {},
   "source": [
    "Wow! By changing those columns to categories, we further reduced our dataset from `80.1+ KB` to `47.8+ KB`. We effectively reduced the memory usage by 50%. While it may not be important in smaller datasets such as this one, you can really see the power when working on large data.\n",
    "\n",
    "For more information, check out pandas [use-efficient-datatypes](https://pandas.pydata.org/docs/user_guide/scale.html#use-efficient-datatypes) section."
   ]
  }
 ],
 "metadata": {
  "kernelspec": {
   "display_name": "Python 3 (ipykernel)",
   "language": "python",
   "name": "python3"
  },
  "language_info": {
   "codemirror_mode": {
    "name": "ipython",
    "version": 3
   },
   "file_extension": ".py",
   "mimetype": "text/x-python",
   "name": "python",
   "nbconvert_exporter": "python",
   "pygments_lexer": "ipython3",
   "version": "3.10.10"
  }
 },
 "nbformat": 4,
 "nbformat_minor": 5
}
