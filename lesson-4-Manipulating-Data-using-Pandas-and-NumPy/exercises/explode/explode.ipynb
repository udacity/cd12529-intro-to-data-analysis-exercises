{
 "cells": [
  {
   "cell_type": "markdown",
   "id": "6c3a0d81-c5bb-493f-8c39-0a3afeaa1a76",
   "metadata": {},
   "source": [
    "# Pandas Explode\n",
    "You may find yourself with a dataset that contains a list of values in a single column. But what you really want is to bring the values from the list into many rows or many columns. So, how do you do that? Using the pandas `.explode()` method and others give you the tools to perform this. For more in depth information about it, you can find it [here](https://pandas.pydata.org/docs/reference/api/pandas.DataFrame.explode.html).  \n",
    "\n",
    "Let's practice the different ways we can using `explode`."
   ]
  },
  {
   "cell_type": "code",
   "execution_count": null,
   "id": "2bae4b98-b97d-41d3-b451-b5819b847193",
   "metadata": {
    "tags": []
   },
   "outputs": [],
   "source": [
    "import numpy as np\n",
    "import pandas as pd"
   ]
  },
  {
   "cell_type": "code",
   "execution_count": null,
   "id": "bfadfbcc-bc8c-4390-a746-ab5782a9b49e",
   "metadata": {
    "tags": []
   },
   "outputs": [],
   "source": [
    "# Create a random array\n",
    "array = np.random.rand(25, 5).round(decimals=2)\n",
    "array"
   ]
  },
  {
   "cell_type": "markdown",
   "id": "f55688dd-ad30-424d-8934-94c89d334a2d",
   "metadata": {},
   "source": [
    "## Explode a list of values into rows"
   ]
  },
  {
   "cell_type": "code",
   "execution_count": null,
   "id": "8e7e5920-1dba-4524-9f9c-829e07aa28fe",
   "metadata": {
    "tags": []
   },
   "outputs": [],
   "source": [
    "# create dataframe with single column\n",
    "df = pd.DataFrame({\"list_values\": array.tolist()})\n",
    "df.head()"
   ]
  },
  {
   "cell_type": "code",
   "execution_count": null,
   "id": "fde9f073-c8f5-4477-94ea-55afec8b96b0",
   "metadata": {
    "tags": []
   },
   "outputs": [],
   "source": [
    "df.info()"
   ]
  },
  {
   "cell_type": "code",
   "execution_count": null,
   "id": "e134d16d-5340-455d-a5ed-943d2a78b366",
   "metadata": {
    "tags": []
   },
   "outputs": [],
   "source": [
    "# each value is a list\n",
    "type(df.iloc[0][0])"
   ]
  },
  {
   "cell_type": "code",
   "execution_count": null,
   "id": "c9f16694-385a-4bc6-b734-0472f5fc9856",
   "metadata": {
    "tags": []
   },
   "outputs": [],
   "source": [
    "# separate list into row with replicating index values\n",
    "df.explode(column=\"list_values\")"
   ]
  },
  {
   "cell_type": "markdown",
   "id": "b85044a1-479a-4d4e-a262-5f0f23906900",
   "metadata": {},
   "source": [
    "## Explode a list of values into columns"
   ]
  },
  {
   "cell_type": "code",
   "execution_count": null,
   "id": "ae024a5b-1fb1-4dcb-8420-130234e8cd54",
   "metadata": {
    "tags": []
   },
   "outputs": [],
   "source": [
    "# separate list into column by column\n",
    "pd.DataFrame(df.list_values.values.tolist()).head()"
   ]
  },
  {
   "cell_type": "markdown",
   "id": "b903a219-d2e1-4ac4-8f70-124bdc84ba13",
   "metadata": {},
   "source": [
    "## Explode a string representation of a list into columns"
   ]
  },
  {
   "cell_type": "code",
   "execution_count": null,
   "id": "47645400-ea21-4e5f-aa20-fecbf0395c80",
   "metadata": {
    "tags": []
   },
   "outputs": [],
   "source": [
    "# now each list is a actually a list of values for each row\n",
    "df_str = pd.DataFrame({\"list_values\": [str(a) for a in array.tolist()]})\n",
    "df_str.head()"
   ]
  },
  {
   "cell_type": "code",
   "execution_count": null,
   "id": "23212237-906f-469a-a58b-ff9537837691",
   "metadata": {
    "tags": []
   },
   "outputs": [],
   "source": [
    "# each value is a str\n",
    "type(df_str.iloc[0][0])"
   ]
  },
  {
   "cell_type": "code",
   "execution_count": null,
   "id": "92a45103-2de4-4a4f-a0af-a4d9258805c6",
   "metadata": {
    "tags": []
   },
   "outputs": [],
   "source": [
    "# This does not work as expected\n",
    "pd.DataFrame(df_str.list_values.values.tolist()).head()"
   ]
  },
  {
   "cell_type": "code",
   "execution_count": null,
   "id": "22fd6dbc-7fad-42b8-9e0d-373eaef7e93f",
   "metadata": {
    "tags": []
   },
   "outputs": [],
   "source": [
    "# One option is to evaluate each string as a list, then proceed as usual\n",
    "# 'eval' parses and evaluates the string of a list as a python expression\n",
    "# turning it back into a list\n",
    "pd.DataFrame(df_str.list_values.apply(lambda u: eval(u)).values.tolist()).head()"
   ]
  }
 ],
 "metadata": {
  "kernelspec": {
   "display_name": "Python 3 (ipykernel)",
   "language": "python",
   "name": "python3"
  },
  "language_info": {
   "codemirror_mode": {
    "name": "ipython",
    "version": 3
   },
   "file_extension": ".py",
   "mimetype": "text/x-python",
   "name": "python",
   "nbconvert_exporter": "python",
   "pygments_lexer": "ipython3",
   "version": "3.10.10"
  }
 },
 "nbformat": 4,
 "nbformat_minor": 5
}
