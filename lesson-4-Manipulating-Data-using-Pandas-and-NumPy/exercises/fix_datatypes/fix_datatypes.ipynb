{
 "cells": [
  {
   "cell_type": "markdown",
   "id": "78de194d-e2da-43e6-915c-8756b0e7063d",
   "metadata": {},
   "source": [
    "# Fix Datatypes"
   ]
  },
  {
   "cell_type": "markdown",
   "id": "735d8a04-a449-4de9-8fc8-5d2412916eb7",
   "metadata": {},
   "source": [
    "## Fixing `cyl` Data Type\n",
    "- 2008: extract int from string\n",
    "- 2018: convert float to int\n",
    "\n",
    "Load datasets `data_08_v3.csv` and `data_18_v3.csv`. You should've created these data files in the previous section: *Filter, Drop Nulls, Dedupe*."
   ]
  },
  {
   "cell_type": "code",
   "execution_count": null,
   "id": "a6b99f1a-0e3f-4b17-b705-f1fa2abef34c",
   "metadata": {},
   "outputs": [],
   "source": [
    "# load datasets\n",
    "import pandas as pd\n",
    "\n",
    "df_08 =\n",
    "df_18 ="
   ]
  },
  {
   "cell_type": "code",
   "execution_count": null,
   "id": "285d08f5-3443-4030-bfa8-0a19a9c03db4",
   "metadata": {},
   "outputs": [],
   "source": [
    "# check value counts for the 2008 cyl column\n",
    "df_08['cyl'].value_counts()"
   ]
  },
  {
   "cell_type": "markdown",
   "id": "270c4a2b-83c5-40e9-98d7-35bdb0f4964e",
   "metadata": {},
   "source": [
    "#### String Processing\n",
    "We need to extract the number from the string. There are several ways to do it, but one example is using regex.  \n",
    "Regex, or [regular expressions](https://docs.python.org/3/library/re.html) is a set of matching operations you can perform on strings. `(\\d+)` is a pattern that matches any unicode decimal digit.  \n",
    "\n",
    "For pandas, you can perform string operations by using the `str` attribute on a column with an object type. This is extremely powerful to manipulate strings in pandas. Review the [documentation](https://pandas.pydata.org/docs/user_guide/text.html#string-methods) for an in depth explanation.\n",
    "\n",
    "For our use case, the `str` attribute has a method called [extract](https://pandas.pydata.org/docs/user_guide/text.html#extracting-substrings) which allows you to use regex to extract the numbers we are looking for. Combine this with the [astype](https://pandas.pydata.org/docs/reference/api/pandas.DataFrame.astype.html) method to convert the extracted number to a string.\n",
    "\n",
    "\n",
    "You can read more of this process by reviewing this [Stack Overflow](https://stackoverflow.com/questions/35376387/extract-int-from-string-in-pandas) thread."
   ]
  },
  {
   "cell_type": "code",
   "execution_count": null,
   "id": "ed3a85ac-002c-404a-b021-8e482237ee2e",
   "metadata": {},
   "outputs": [],
   "source": [
    "# Extract int from strings in the 2008 cyl column\n",
    "df_08['cyl'] ="
   ]
  },
  {
   "cell_type": "code",
   "execution_count": null,
   "id": "90981bb7-bfd8-4eb2-9aad-09b6803a4572",
   "metadata": {},
   "outputs": [],
   "source": [
    "# Check value counts for 2008 cyl column again to confirm the change\n",
    "df_08['cyl'].value_counts()"
   ]
  },
  {
   "cell_type": "code",
   "execution_count": null,
   "id": "757d350f-1434-4f99-8e58-b2bcd38dec88",
   "metadata": {},
   "outputs": [],
   "source": [
    "# convert 2018 cyl column from a float type to int type\n",
    "df_18['cyl'] ="
   ]
  },
  {
   "cell_type": "markdown",
   "id": "82255e98-a2b8-45c8-a29e-c9128657e1a8",
   "metadata": {},
   "source": [
    "## Fixing `air_pollution_score` Data Type\n",
    "- 2008: convert string to float\n",
    "- 2018: convert int to float"
   ]
  },
  {
   "cell_type": "code",
   "execution_count": null,
   "id": "52ca526b-9fcc-4588-a32d-0d1558e8ae8d",
   "metadata": {},
   "outputs": [],
   "source": [
    "# try using pandas' astype function to convert the\n",
    "# 2008 air_pollution_score column to float -- this won't work\n"
   ]
  },
  {
   "cell_type": "markdown",
   "id": "850ba323-f989-4bdf-a919-e4e7e6ca5128",
   "metadata": {},
   "source": [
    "# Figuring out the issue\n",
    "Looks like this isn't going to be as simple as converting the datatype. According to the error above, the air pollution score value in one of the rows is \"6/4\" - let's check it out."
   ]
  },
  {
   "cell_type": "code",
   "execution_count": null,
   "id": "ad0a5f05-e84e-444e-b97c-2891c2c81539",
   "metadata": {},
   "outputs": [],
   "source": [
    "df_08[df_08.air_pollution_score == '6/4']"
   ]
  },
  {
   "cell_type": "markdown",
   "id": "c466c835-c739-4b2d-a179-06df8c3e8add",
   "metadata": {},
   "source": [
    "# It's not just the air pollution score!\n",
    "The mpg columns and greenhouse gas scores also seem to have the same problem - maybe that's why these were all saved as strings! According to [this link](http://www.fueleconomy.gov/feg/findacarhelp.shtml#airPollutionScore), which I found from the PDF documentation:\n",
    "\n",
    "    \"If a vehicle can operate on more than one type of fuel, an estimate is provided for each fuel type.\"\n",
    "    \n",
    "Ohh... so all vehicles with more than one fuel type, or hybrids, like the one above (it uses ethanol AND gas) will have a string that holds two values - one for each. This is a little tricky, so I'm going to show you how to do it with the 2008 dataset, and then you'll try it with the 2018 dataset."
   ]
  },
  {
   "cell_type": "code",
   "execution_count": null,
   "id": "a07c1a72-a24e-4548-a315-101581a36677",
   "metadata": {},
   "outputs": [],
   "source": [
    "# First, let's get all the hybrids in 2008\n",
    "hb_08 = df_08[df_08['fuel'].str.contains('/')]\n",
    "hb_08.shape"
   ]
  },
  {
   "cell_type": "markdown",
   "id": "a23175e9-7970-44df-b456-8ae17195b921",
   "metadata": {},
   "source": [
    "Looks like this dataset only has one! The 2018 has MANY more - but don't worry - the steps I'm taking here will work for that as well!"
   ]
  },
  {
   "cell_type": "code",
   "execution_count": null,
   "id": "e366a62f-da06-4b27-abfc-baaefab0199c",
   "metadata": {},
   "outputs": [],
   "source": [
    "# hybrids in 2018\n",
    "hb_18 = df_18[df_18['fuel'].str.contains('/')]\n",
    "hb_18.shape"
   ]
  },
  {
   "cell_type": "markdown",
   "id": "c4011528-de10-43d5-9dd0-fa5f9a803441",
   "metadata": {},
   "source": [
    "We're going to take each hybrid row and split them into two new rows - one with values for the first fuel type (values before the \"/\"), and the other with values for the second fuel type (values after the \"/\"). Let's separate them with two dataframes!"
   ]
  },
  {
   "cell_type": "code",
   "execution_count": null,
   "id": "82e3de55-5993-4f77-8990-08a6a1c9ceaf",
   "metadata": {},
   "outputs": [],
   "source": [
    "# create two copies of the 2008 hybrids dataframe\n",
    "df1 = hb_08.copy()  # data on first fuel type of each hybrid vehicle\n",
    "df2 = hb_08.copy()  # data on second fuel type of each hybrid vehicle\n",
    "\n",
    "# Each one should look like this\n",
    "df1"
   ]
  },
  {
   "cell_type": "markdown",
   "id": "465506d6-5ba4-433a-baf0-3629140f0f1a",
   "metadata": {},
   "source": [
    "For this next part, we're going use pandas' apply function. See the docs [here](https://pandas.pydata.org/pandas-docs/stable/generated/pandas.DataFrame.apply.html)."
   ]
  },
  {
   "cell_type": "code",
   "execution_count": null,
   "id": "a22e8962-c52f-44dc-865f-9a80dce4aeec",
   "metadata": {},
   "outputs": [],
   "source": [
    "# columns to split by \"/\"\n",
    "split_columns = ['fuel', 'air_pollution_score', 'city_mpg', 'hwy_mpg', 'cmb_mpg', 'greenhouse_gas_score']\n",
    "\n",
    "# apply split function to each column of each dataframe copy\n",
    "for c in split_columns:\n",
    "    df1[c] = df1[c].apply(lambda x: x.split(\"/\")[0])\n",
    "    df2[c] = df2[c].apply(lambda x: x.split(\"/\")[1])"
   ]
  },
  {
   "cell_type": "code",
   "execution_count": null,
   "id": "059c89ec-bb16-49c7-a9d7-ffca59c912e4",
   "metadata": {},
   "outputs": [],
   "source": [
    "# this dataframe holds info for the FIRST fuel type of the hybrid\n",
    "# aka the values before the \"/\"s\n",
    "df1"
   ]
  },
  {
   "cell_type": "code",
   "execution_count": null,
   "id": "91edfbf3-7ce8-4f56-b0e3-585518d010b5",
   "metadata": {},
   "outputs": [],
   "source": [
    "# this dataframe holds info for the SECOND fuel type of the hybrid\n",
    "# aka the values after the \"/\"s\n",
    "df2"
   ]
  },
  {
   "cell_type": "code",
   "execution_count": null,
   "id": "327e703d-6d08-4165-b0c4-6ed579b81063",
   "metadata": {},
   "outputs": [],
   "source": [
    "# combine dataframes to add to the original dataframe\n",
    "new_rows = pd.concat([df1, df2])\n",
    "\n",
    "# now we have separate rows for each fuel type of each vehicle!\n",
    "new_rows"
   ]
  },
  {
   "cell_type": "code",
   "execution_count": null,
   "id": "845aef2b-ae29-4cbd-be17-52af2abcc1eb",
   "metadata": {
    "scrolled": true
   },
   "outputs": [],
   "source": [
    "# drop the original hybrid rows\n",
    "df_08.drop(hb_08.index, inplace=True)\n",
    "\n",
    "# add in our newly separated rows\n",
    "df_08 = pd.concat([df_08, new_rows], ignore_index=True)"
   ]
  },
  {
   "cell_type": "code",
   "execution_count": null,
   "id": "d3c4f2fa-6a05-4fec-bf63-d15b07afa18e",
   "metadata": {},
   "outputs": [],
   "source": [
    "# check that all the original hybrid rows with \"/\"s are gone\n",
    "df_08[df_08['fuel'].str.contains('/')]"
   ]
  },
  {
   "cell_type": "code",
   "execution_count": null,
   "id": "031d6e4a-f5f6-4201-a71a-0bd1f1bc3c7c",
   "metadata": {},
   "outputs": [],
   "source": [
    "df_08.shape"
   ]
  },
  {
   "cell_type": "markdown",
   "id": "5ac1d99d-a86a-4d8f-a522-532e52d3b68b",
   "metadata": {},
   "source": [
    "# Repeat this process for the 2018 dataset"
   ]
  },
  {
   "cell_type": "code",
   "execution_count": null,
   "id": "d48825ac-44a4-4eac-9c28-e1b165d83f1d",
   "metadata": {},
   "outputs": [],
   "source": [
    "# create two copies of the 2018 hybrids dataframe, hb_18\n",
    "df1 =\n",
    "df2 ="
   ]
  },
  {
   "cell_type": "markdown",
   "id": "491cd820-7fe2-4039-a0af-5707fd80b28b",
   "metadata": {},
   "source": [
    "### Split values for `fuel`, `city_mpg`, `hwy_mpg`, `cmb_mpg`\n",
    "You don't need to split for `air_pollution_score` or `greenhouse_gas_score` here because these columns are already ints in the 2018 dataset."
   ]
  },
  {
   "cell_type": "code",
   "execution_count": null,
   "id": "320607c9-d9d8-4d43-855f-73b38bfd2ace",
   "metadata": {},
   "outputs": [],
   "source": [
    "# list of columns to split\n",
    "split_columns = ['fuel', 'city_mpg', 'hwy_mpg', 'cmb_mpg']\n",
    "\n",
    "# apply split function to each column of each dataframe copy\n",
    "for c in split_columns:\n",
    "    df1[c] =\n",
    "    df2[c] ="
   ]
  },
  {
   "cell_type": "code",
   "execution_count": null,
   "id": "3b82c721-fbd5-45c0-affb-b4a7d26801bb",
   "metadata": {},
   "outputs": [],
   "source": [
    "# append the two dataframes\n",
    "new_rows =\n",
    "\n",
    "# drop each hybrid row from the original 2018 dataframe\n",
    "# do this by using Pandas drop function with hb_18's index\n",
    "df_18.drop(hb_18.index, inplace=True)\n",
    "\n",
    "# append new_rows to df_18\n",
    "df_18 ="
   ]
  },
  {
   "cell_type": "code",
   "execution_count": null,
   "id": "376642aa-338c-4a32-80c1-8e6ef3f94f40",
   "metadata": {},
   "outputs": [],
   "source": [
    "# check that they're gone\n",
    "df_18[df_18['fuel'].str.contains('/')]"
   ]
  },
  {
   "cell_type": "code",
   "execution_count": null,
   "id": "4dc313fd-0e15-4a47-a4f2-10a3ea80b5e0",
   "metadata": {},
   "outputs": [],
   "source": [
    "df_18.shape"
   ]
  },
  {
   "cell_type": "markdown",
   "id": "96f65e49-2f37-4404-9c65-c1735c906179",
   "metadata": {},
   "source": [
    "### Now we can comfortably continue the changes needed for `air_pollution_score`! Here they are again:\n",
    "- 2008: convert string to float\n",
    "- 2018: convert int to float"
   ]
  },
  {
   "cell_type": "code",
   "execution_count": null,
   "id": "4c2b16b2-d5fb-47bc-9caa-426e4f4c98b8",
   "metadata": {},
   "outputs": [],
   "source": [
    "# convert string to float for 2008 air pollution column\n",
    "df_08.air_pollution_score ="
   ]
  },
  {
   "cell_type": "code",
   "execution_count": null,
   "id": "91b168ac-acfd-4e8b-830c-db8bbc4e4d4b",
   "metadata": {},
   "outputs": [],
   "source": [
    "# convert int to float for 2018 air pollution column\n",
    "df_18.air_pollution_score ="
   ]
  },
  {
   "cell_type": "markdown",
   "id": "7abe4cf3-5ae8-42f0-91cc-ace501f1a7f9",
   "metadata": {},
   "source": [
    "## Fix `city_mpg`, `hwy_mpg`, `cmb_mpg` datatypes\n",
    "    2008 and 2018: convert string to float"
   ]
  },
  {
   "cell_type": "code",
   "execution_count": null,
   "id": "7023cb4f-d1b5-429f-b848-668b8857ff8d",
   "metadata": {
    "tags": []
   },
   "outputs": [],
   "source": [
    "# convert mpg columns to floats\n",
    "mpg_columns =\n",
    "for c in mpg_columns:\n",
    "    df_18[c] =\n",
    "    df_08[c] ="
   ]
  },
  {
   "cell_type": "markdown",
   "id": "bee44fe5-70d9-40f2-8339-9225a62ad22e",
   "metadata": {},
   "source": [
    "## Fix `greenhouse_gas_score` datatype\n",
    "    2008: convert from float to int"
   ]
  },
  {
   "cell_type": "code",
   "execution_count": null,
   "id": "a92fcb24-68dd-470e-99f9-9071a7dfa52d",
   "metadata": {
    "tags": []
   },
   "outputs": [],
   "source": [
    "# convert from float to int\n",
    "df_08['greenhouse_gas_score'] ="
   ]
  },
  {
   "cell_type": "markdown",
   "id": "94226ba5-5d07-43b7-9586-143e2f4a377f",
   "metadata": {},
   "source": [
    "## All the dataypes are now fixed! Take one last check to confirm all the changes."
   ]
  },
  {
   "cell_type": "code",
   "execution_count": null,
   "id": "9c6d934b-5ff4-4119-a0eb-b6b129c5da7e",
   "metadata": {
    "tags": []
   },
   "outputs": [],
   "source": [
    "df_08.dtypes"
   ]
  },
  {
   "cell_type": "code",
   "execution_count": null,
   "id": "15bada7e-b495-48fc-9a46-24b2f6c77f7c",
   "metadata": {
    "tags": []
   },
   "outputs": [],
   "source": [
    "df_18.dtypes"
   ]
  },
  {
   "cell_type": "code",
   "execution_count": null,
   "id": "f771a3d7-0e0b-4f86-afe1-6a6e82ddc93a",
   "metadata": {
    "tags": []
   },
   "outputs": [],
   "source": [
    "df_08.dtypes == df_18.dtypes"
   ]
  },
  {
   "cell_type": "code",
   "execution_count": null,
   "id": "9d342f76-5a91-4f39-a874-335ecdfe14c5",
   "metadata": {
    "tags": []
   },
   "outputs": [],
   "source": [
    "# Save your final CLEAN datasets as new files!\n",
    "df_08.to_csv('clean_08.csv', index=False)\n",
    "df_18.to_csv('clean_18.csv', index=False)"
   ]
  }
 ],
 "metadata": {
  "kernelspec": {
   "display_name": "Python 3 (ipykernel)",
   "language": "python",
   "name": "python3"
  },
  "language_info": {
   "codemirror_mode": {
    "name": "ipython",
    "version": 3
   },
   "file_extension": ".py",
   "mimetype": "text/x-python",
   "name": "python",
   "nbconvert_exporter": "python",
   "pygments_lexer": "ipython3",
   "version": "3.8.7"
  }
 },
 "nbformat": 4,
 "nbformat_minor": 5
}
