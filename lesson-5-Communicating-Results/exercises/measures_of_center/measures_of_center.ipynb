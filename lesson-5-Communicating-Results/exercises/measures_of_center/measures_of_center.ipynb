{
 "cells": [
  {
   "cell_type": "markdown",
   "id": "76ed1703-93db-45fc-8a74-5dfa77bb9a85",
   "metadata": {
    "tags": []
   },
   "source": [
    "# Measures of Center in Pandas and Numpy\n",
    "Measures of center are typically defined as mean (average), median, and mode. The goal is to find what the center of your data is. We can use `.mean()` and `.median()` on our DataFrame, Series, or Group to calculate these measurements.\n",
    "\n",
    "Explore this notebook using the `census_income_data.csv` dataset to answer questions from these methods. We'll utilize the groupby method again to facilitate our methodology."
   ]
  },
  {
   "cell_type": "code",
   "execution_count": null,
   "id": "42870319-d79a-4fd7-834f-f3d871c6804b",
   "metadata": {
    "tags": []
   },
   "outputs": [],
   "source": [
    "import pandas as pd"
   ]
  },
  {
   "cell_type": "code",
   "execution_count": null,
   "id": "f7a62f93-d747-4111-afbb-6a1c041e10dc",
   "metadata": {
    "tags": []
   },
   "outputs": [],
   "source": [
    "# Load the dataset\n",
    "df_census = pd.read_csv('census_income_data.csv')"
   ]
  },
  {
   "cell_type": "markdown",
   "id": "539d2ddc-37ef-4336-8324-e5af259fb962",
   "metadata": {},
   "source": [
    "## Using mean on a DataFrame"
   ]
  },
  {
   "cell_type": "markdown",
   "id": "aed41930-de05-4d04-ba7e-d4d25dce1cb3",
   "metadata": {},
   "source": [
    "#### What was the average capital gained and lost in our dataset?\n",
    "Let's use the `.mean()` method on our DataFrame to aggregate these totals at a high level.\n",
    "On average, not many people buy or sell assets."
   ]
  },
  {
   "cell_type": "code",
   "execution_count": null,
   "id": "0054bf07-7fc8-420e-b81a-7b8afc84d055",
   "metadata": {
    "tags": []
   },
   "outputs": [],
   "source": [
    "df_census[[\"capital-gain\", \"capital-loss\"]].mean()"
   ]
  },
  {
   "cell_type": "markdown",
   "id": "0d30dfb5-3ab8-447c-a9b2-d222d17c11d3",
   "metadata": {},
   "source": [
    "## Using Mean and Median on a Group"
   ]
  },
  {
   "cell_type": "markdown",
   "id": "10161b64-9f2a-441f-aa08-aef44eb6ed10",
   "metadata": {},
   "source": [
    "#### What are the different workclass types"
   ]
  },
  {
   "cell_type": "code",
   "execution_count": null,
   "id": "279d488d-05ae-49ae-aa9a-1829cdd8759c",
   "metadata": {
    "tags": []
   },
   "outputs": [],
   "source": [
    "df_census[\"workclass\"].value_counts()"
   ]
  },
  {
   "cell_type": "markdown",
   "id": "07b34358-c59b-4bb9-8483-beff44717a03",
   "metadata": {},
   "source": [
    "#### If we group by 'workclass', what are some interesting questions and answers?\n",
    "We'll use `.mean()` and `.median()` to see how the each metric tells a different story for each 'workclass'.\n",
    "\n",
    "Self-emp-inc on average make more money through selling assets (capital-gain), but what is going when we use `.median()`?\n",
    "\n",
    "`capital-gain` and `capital-loss` are both zero for each group. What does this tell us about our data?"
   ]
  },
  {
   "cell_type": "code",
   "execution_count": null,
   "id": "1dc27e1e-1ec7-491a-a35a-9a81f9d9b324",
   "metadata": {
    "tags": []
   },
   "outputs": [],
   "source": [
    "df_census.groupby(by=\"workclass\").mean(numeric_only=True)"
   ]
  },
  {
   "cell_type": "code",
   "execution_count": null,
   "id": "d3bd1691-d3d7-4376-9ee5-d06ab151d8f0",
   "metadata": {
    "tags": []
   },
   "outputs": [],
   "source": [
    "df_census.groupby(by=\"workclass\").median(numeric_only=True)"
   ]
  },
  {
   "cell_type": "markdown",
   "id": "d5b60211-02fa-4500-ad43-38edae803f11",
   "metadata": {},
   "source": [
    "#### How about for occupation?"
   ]
  },
  {
   "cell_type": "code",
   "execution_count": null,
   "id": "c49b3693-20bd-4604-bc36-d33cbc7b60cd",
   "metadata": {
    "tags": []
   },
   "outputs": [],
   "source": [
    "df_census[\"occupation\"].value_counts()"
   ]
  },
  {
   "cell_type": "markdown",
   "id": "15992b5a-19a8-4c8f-a99e-6c80bde3c058",
   "metadata": {},
   "source": [
    "Using mean and median by each occupation group, `Exec-managerial` and `Prof-specialty` both made more money through `capital-gain` than others.\n",
    "\n",
    "Median still does not provide much in terms of information in our analysis. This group suffers the same problem as `workclass`. Most of the data in each group actually have 0 in `capital-gain`, which is visualized when we try and calcuate it!"
   ]
  },
  {
   "cell_type": "code",
   "execution_count": null,
   "id": "4f2c98ce-ec57-4e33-8203-50d6a76b2909",
   "metadata": {
    "tags": []
   },
   "outputs": [],
   "source": [
    "df_census.groupby(by=\"occupation\").mean(numeric_only=True)"
   ]
  },
  {
   "cell_type": "code",
   "execution_count": null,
   "id": "b8130463-f720-4031-9152-84139345edc7",
   "metadata": {
    "tags": []
   },
   "outputs": [],
   "source": [
    "df_census.groupby(by=\"occupation\").median(numeric_only=True)"
   ]
  }
 ],
 "metadata": {
  "kernelspec": {
   "display_name": "Python 3 (ipykernel)",
   "language": "python",
   "name": "python3"
  },
  "language_info": {
   "codemirror_mode": {
    "name": "ipython",
    "version": 3
   },
   "file_extension": ".py",
   "mimetype": "text/x-python",
   "name": "python",
   "nbconvert_exporter": "python",
   "pygments_lexer": "ipython3",
   "version": "3.10.10"
  }
 },
 "nbformat": 4,
 "nbformat_minor": 5
}
