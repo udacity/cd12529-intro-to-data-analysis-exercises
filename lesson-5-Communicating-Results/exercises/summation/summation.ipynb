{
 "cells": [
  {
   "cell_type": "markdown",
   "id": "401e0f6c-44e3-4391-b0de-0032c1f68307",
   "metadata": {},
   "source": [
    "# Summation in Pandas and Numpy\n",
    "Summation is an important measurement for exploring and finding answers where you may need to aggregate number totals. Explore this notebook using the `census_income_data.csv` dataset to answer a few interesting questions using summation. We'll utilize the groupby method to facilitate our methodology.\n",
    "\n",
    "In order to sum values up in pandas, you can easily use the `.sum()` method on a DataFrame, Series, or even Group, to aggregate numerical values. And just a reminder, pandas uses Numpy under the hood, so calculating these metrics are extremely fast."
   ]
  },
  {
   "cell_type": "code",
   "execution_count": null,
   "id": "6d73ec14-351c-4123-9de5-d6f4a2c3e4d5",
   "metadata": {
    "tags": []
   },
   "outputs": [],
   "source": [
    "import pandas as pd"
   ]
  },
  {
   "cell_type": "code",
   "execution_count": null,
   "id": "5a46af7b-e0e7-4393-8d12-754aca1d2dff",
   "metadata": {
    "tags": []
   },
   "outputs": [],
   "source": [
    "# Load the dataset\n",
    "df_census = pd.read_csv('census_income_data.csv')"
   ]
  },
  {
   "cell_type": "code",
   "execution_count": null,
   "id": "fde78602-d80e-4149-8bc8-d8314af2ce93",
   "metadata": {
    "tags": []
   },
   "outputs": [],
   "source": [
    "df_census.head()"
   ]
  },
  {
   "cell_type": "markdown",
   "id": "08012015-2836-4e5a-8617-4ccf3d4cebd6",
   "metadata": {},
   "source": [
    "## Using Sum on a DataFrame"
   ]
  },
  {
   "cell_type": "markdown",
   "id": "f10593b8-ac60-4465-8dc9-c238f069c116",
   "metadata": {},
   "source": [
    "#### How much capital was gained and lost in our dataset?\n",
    "Let's use the `.sum()` method on our DataFrame to aggregate these totals at a high level.\n",
    "Overall people made more money than they lost, that is a good thing!"
   ]
  },
  {
   "cell_type": "code",
   "execution_count": null,
   "id": "e6d03277-fc79-432f-808b-80ddaa038df1",
   "metadata": {
    "tags": []
   },
   "outputs": [],
   "source": [
    "df_census[[\"capital-gain\", \"capital-loss\"]].sum()"
   ]
  },
  {
   "cell_type": "markdown",
   "id": "f7e60da9-e8dd-4927-8774-08d5ae37eed7",
   "metadata": {},
   "source": [
    "## Using Sum on a Group"
   ]
  },
  {
   "cell_type": "markdown",
   "id": "685ec2df-d285-46e1-9c93-4fbe20e21518",
   "metadata": {},
   "source": [
    "#### What are the different workclass types?"
   ]
  },
  {
   "cell_type": "code",
   "execution_count": null,
   "id": "62360b2c-b2b7-4fbd-83a1-30573a384ef4",
   "metadata": {
    "tags": []
   },
   "outputs": [],
   "source": [
    "df_census[\"workclass\"].value_counts()"
   ]
  },
  {
   "cell_type": "markdown",
   "id": "4e44d83c-e125-4bdb-8fa6-78b85a758bd8",
   "metadata": {},
   "source": [
    "#### If we group by 'workclass', what are some interesting questions and answers?  \n",
    "'Self-emp-inc' and 'State-gov' have similar hours-per-week, so let's use it as a way to compare similar groups.  \n",
    "Notice their 'capital-gain' is completely different! It seems the Self-emp-inc group buys and sells assets more than the State-gov group."
   ]
  },
  {
   "cell_type": "code",
   "execution_count": null,
   "id": "634486d6-f6a2-4ef5-a03e-595fd7a77339",
   "metadata": {
    "tags": []
   },
   "outputs": [],
   "source": [
    "df_census.groupby(by=\"workclass\").sum(numeric_only=True)"
   ]
  },
  {
   "cell_type": "markdown",
   "id": "fe81628e-7f1b-439b-9c03-2c0983c35826",
   "metadata": {},
   "source": [
    "#### Let's do a similar comparison for occupation"
   ]
  },
  {
   "cell_type": "code",
   "execution_count": null,
   "id": "599aac0c-ae93-485c-b79a-017b6b4f35be",
   "metadata": {
    "tags": []
   },
   "outputs": [],
   "source": [
    "df_census[\"occupation\"].value_counts()"
   ]
  },
  {
   "cell_type": "markdown",
   "id": "18365fe9-2759-4b44-960c-ae786874399a",
   "metadata": {},
   "source": [
    "#### Group by and take the sum for occupation\n",
    "We will sort by 'hours-per-week' so it can make some comparisons easier.  \n",
    "Top three have similar total hours worked, but vastly different 'capital-gain'!"
   ]
  },
  {
   "cell_type": "code",
   "execution_count": null,
   "id": "21bc1c1c-ff48-49c5-b508-c4ff7f6bad05",
   "metadata": {
    "tags": []
   },
   "outputs": [],
   "source": [
    "df_census.groupby(by=\"occupation\").sum(numeric_only=True).sort_values(by=\"hours-per-week\", ascending=False)"
   ]
  },
  {
   "cell_type": "markdown",
   "id": "b487e234-55dd-4f19-bb6b-65fbaa2c4c52",
   "metadata": {},
   "source": [
    "#### Let's do a similar comparison for marital status"
   ]
  },
  {
   "cell_type": "code",
   "execution_count": null,
   "id": "b2a94bbc-c441-4826-818d-d1d6c6c8a6cb",
   "metadata": {
    "tags": []
   },
   "outputs": [],
   "source": [
    "df_census[\"marital-status\"].value_counts()"
   ]
  },
  {
   "cell_type": "markdown",
   "id": "a2d8e2c5-8b2e-4455-a435-6bf4175fd21a",
   "metadata": {},
   "source": [
    "#### Group by and take the sum for marital-status\n",
    "Marital status is a little harder to compare with 'hours-per-week'.\n",
    "It is not easily comparable, but still interesting to see the differences of each."
   ]
  },
  {
   "cell_type": "code",
   "execution_count": null,
   "id": "215aa152-9e77-401a-8053-f040dcabf151",
   "metadata": {
    "tags": []
   },
   "outputs": [],
   "source": [
    "df_census.groupby(by=\"marital-status\").sum(numeric_only=True).sort_values(by=\"hours-per-week\", ascending=False)"
   ]
  }
 ],
 "metadata": {
  "kernelspec": {
   "display_name": "Python 3 (ipykernel)",
   "language": "python",
   "name": "python3"
  },
  "language_info": {
   "codemirror_mode": {
    "name": "ipython",
    "version": 3
   },
   "file_extension": ".py",
   "mimetype": "text/x-python",
   "name": "python",
   "nbconvert_exporter": "python",
   "pygments_lexer": "ipython3",
   "version": "3.10.10"
  }
 },
 "nbformat": 4,
 "nbformat_minor": 5
}
