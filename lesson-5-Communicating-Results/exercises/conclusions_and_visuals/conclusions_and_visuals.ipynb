{
 "cells": [
  {
   "cell_type": "markdown",
   "metadata": {},
   "source": [
    "# Conclusions and Visuals\n",
    "We will now use everthing we learned about this lesson to tackle the fuel economy dataset we cleaned and manipulated from last lesson. Use the space below to address questions on datasets `clean_08.csv` and `clean_18.csv`.\n",
    "Answer the questions below:\n",
    "  * Are more unique models using alternative fuels in 2018 compared to 2008? By how much?\n",
    "  * How much have vehicle classes improved in fuel economy (increased in mpg)?\n",
    "  * What are the characteristics of SmartWay vehicles? Have they changed over time? (mpg, greenhouse gas)\n",
    "  * What features are associated with better fuel economy (mpg)?"
   ]
  },
  {
   "cell_type": "code",
   "execution_count": null,
   "metadata": {
    "tags": []
   },
   "outputs": [],
   "source": [
    "# inport pandas\n",
    "import pandas as pd"
   ]
  },
  {
   "cell_type": "code",
   "execution_count": null,
   "metadata": {
    "tags": []
   },
   "outputs": [],
   "source": [
    "# load datasets\n",
    "df_08 = \n",
    "df_18 = "
   ]
  },
  {
   "cell_type": "code",
   "execution_count": null,
   "metadata": {
    "tags": []
   },
   "outputs": [],
   "source": [
    "df_08.head(1)"
   ]
  },
  {
   "cell_type": "markdown",
   "metadata": {},
   "source": [
    "### Q1: Are more unique models using alternative sources of fuel? By how much?"
   ]
  },
  {
   "cell_type": "markdown",
   "metadata": {},
   "source": [
    "Let's first look at what the sources of fuel are and which ones are alternative sources."
   ]
  },
  {
   "cell_type": "code",
   "execution_count": null,
   "metadata": {
    "tags": []
   },
   "outputs": [],
   "source": [
    "df_08.fuel.value_counts()"
   ]
  },
  {
   "cell_type": "code",
   "execution_count": null,
   "metadata": {
    "tags": []
   },
   "outputs": [],
   "source": [
    "df_18.fuel.value_counts()"
   ]
  },
  {
   "cell_type": "markdown",
   "metadata": {},
   "source": [
    "Looks like the alternative sources of fuel available in 2008 are CNG and ethanol, and those in 2018 ethanol and electricity. (You can use Google if you weren't sure which ones are alternative sources of fuel!)"
   ]
  },
  {
   "cell_type": "code",
   "execution_count": null,
   "metadata": {
    "tags": []
   },
   "outputs": [],
   "source": [
    "# how many unique models used alternative sources of fuel in 2008\n",
    "alt_08 = \n",
    "alt_08"
   ]
  },
  {
   "cell_type": "code",
   "execution_count": null,
   "metadata": {
    "tags": []
   },
   "outputs": [],
   "source": [
    "# how many unique models used alternative sources of fuel in 2018\n",
    "alt_18 = \n",
    "alt_18"
   ]
  },
  {
   "cell_type": "code",
   "execution_count": null,
   "metadata": {
    "tags": []
   },
   "outputs": [],
   "source": [
    "# Create a bar chart with both 2008 and 2018 alternative source numbers\n",
    "pd.DataFrame(\n",
    "    {\"year\": [\"2008\", \"2018\"], \"model_num\": [alt_08, alt_18]}\n",
    ").plot(\n",
    "    kind=\"bar\",\n",
    "    x=\"year\",\n",
    "    title=\"Number of Unique Models Using Alternative Fuels\",\n",
    "    legend=False,\n",
    "    xlabel=\"Year\",\n",
    "    ylabel=\"Number of Unique Models\",\n",
    "    rot=0\n",
    ");"
   ]
  },
  {
   "cell_type": "markdown",
   "metadata": {},
   "source": [
    "Since 2008, the number of unique models using alternative sources of fuel increased by 24. We can also look at proportions."
   ]
  },
  {
   "cell_type": "code",
   "execution_count": null,
   "metadata": {
    "tags": []
   },
   "outputs": [],
   "source": [
    "# total unique models each year\n",
    "total_08 = \n",
    "total_18 = \n",
    "total_08, total_18"
   ]
  },
  {
   "cell_type": "code",
   "execution_count": null,
   "metadata": {
    "tags": []
   },
   "outputs": [],
   "source": [
    "# Find the proportion of alternative models by the total number of models for 2008 and 2018\n",
    "prop_08 = alt_08 / total_08\n",
    "prop_18 = alt_18 / total_18\n",
    "prop_08, prop_18"
   ]
  },
  {
   "cell_type": "code",
   "execution_count": null,
   "metadata": {
    "tags": []
   },
   "outputs": [],
   "source": [
    "# Create a bar chart with both 2008 and 2018 proportion values\n",
    "pd.DataFrame(\n",
    "    {\"year\": [\"2008\", \"2018\"], \"model_num\": [prop_08, prop_18]}\n",
    ").plot(\n",
    "    kind=\"bar\",\n",
    "    x=\"year\",\n",
    "    title=\"Proportion of Unique Models Using Alternative Fuels\",\n",
    "    legend=False,\n",
    "    xlabel=\"Year\",\n",
    "    ylabel=\"Proportion of Unique Models\",\n",
    "    rot=0\n",
    ");"
   ]
  },
  {
   "cell_type": "markdown",
   "metadata": {},
   "source": [
    "### Q2: How much have vehicle classes improved in fuel economy?  "
   ]
  },
  {
   "cell_type": "markdown",
   "metadata": {},
   "source": [
    "Let's look at the average fuel economy for each vehicle class for both years."
   ]
  },
  {
   "cell_type": "code",
   "execution_count": null,
   "metadata": {
    "tags": []
   },
   "outputs": [],
   "source": [
    "# group by veh_class and find the mean of cmb_mpg\n",
    "veh_08 = \n",
    "veh_08"
   ]
  },
  {
   "cell_type": "code",
   "execution_count": null,
   "metadata": {
    "tags": []
   },
   "outputs": [],
   "source": [
    "veh_18 = \n",
    "veh_18"
   ]
  },
  {
   "cell_type": "code",
   "execution_count": null,
   "metadata": {
    "tags": []
   },
   "outputs": [],
   "source": [
    "# Find how much they've increased by for each vehicle class\n",
    "# Take the difference of veh_18 and veh_08 to find the increase\n",
    "inc = veh_18 - veh_08\n",
    "inc"
   ]
  },
  {
   "cell_type": "code",
   "execution_count": null,
   "metadata": {
    "tags": []
   },
   "outputs": [],
   "source": [
    "# Drop any NaN values to only plot the classes that exist in both years\n",
    "inc.dropna(inplace=True)\n",
    "# Create a bar chart to show the increase for vehicle types \n",
    "inc.plot(\n",
    "    kind=\"bar\",\n",
    "    x=\"year\",\n",
    "    title=\"Improvements in Fuel Economy from 2008 to 2018 by Vehicle Class\",\n",
    "    legend=False,\n",
    "    xlabel=\"Vehicle Class\",\n",
    "    ylabel=\"Increase in Average Combined MPG\",\n",
    "    rot=0,\n",
    "    figsize=(8, 5)\n",
    ");"
   ]
  },
  {
   "cell_type": "markdown",
   "metadata": {},
   "source": [
    "### Q3: What are the characteristics of SmartWay vehicles? Have they changed over time?"
   ]
  },
  {
   "cell_type": "markdown",
   "metadata": {},
   "source": [
    "We can analyze this by filtering each dataframe by SmartWay classification and exploring these datasets."
   ]
  },
  {
   "cell_type": "code",
   "execution_count": null,
   "metadata": {
    "tags": []
   },
   "outputs": [],
   "source": [
    "# smartway labels for 2008\n",
    "df_08.smartway.unique()"
   ]
  },
  {
   "cell_type": "code",
   "execution_count": null,
   "metadata": {
    "tags": []
   },
   "outputs": [],
   "source": [
    "# get all smartway vehicles in 2008\n",
    "smart_08 = "
   ]
  },
  {
   "cell_type": "code",
   "execution_count": null,
   "metadata": {
    "tags": []
   },
   "outputs": [],
   "source": [
    "# explore smartway vehicles in 2008\n",
    "smart_08.describe()"
   ]
  },
  {
   "cell_type": "markdown",
   "metadata": {},
   "source": [
    "Use what you've learned so for to further explore this dataset on 2008 smartway vehicles."
   ]
  },
  {
   "cell_type": "code",
   "execution_count": null,
   "metadata": {
    "tags": []
   },
   "outputs": [],
   "source": [
    "# smartway labels for 2018\n",
    "df_18.smartway.unique()"
   ]
  },
  {
   "cell_type": "code",
   "execution_count": null,
   "metadata": {
    "tags": []
   },
   "outputs": [],
   "source": [
    "# get all smartway vehicles in 2018\n",
    "smart_18 = "
   ]
  },
  {
   "cell_type": "code",
   "execution_count": null,
   "metadata": {
    "tags": []
   },
   "outputs": [],
   "source": [
    "smart_18.describe()"
   ]
  },
  {
   "cell_type": "markdown",
   "metadata": {},
   "source": [
    "Use what you've learned so for to further explore this dataset on 2018 smartway vehicles."
   ]
  },
  {
   "cell_type": "code",
   "execution_count": null,
   "metadata": {
    "tags": []
   },
   "outputs": [],
   "source": [
    "# Create a bar chart to find average cmb_mpg of smartway vehicles\n",
    "pd.DataFrame(\n",
    "    {\"year\": [\"2008\", \"2018\"], \"model_num\": [smart_08[\"cmb_mpg\"].mean(), smart_18[\"cmb_mpg\"].mean()]}\n",
    ").plot(\n",
    "    kind=\"bar\",\n",
    "    x=\"year\",\n",
    "    title=\"Average Combined MPG from Smartway Vehicles from 2008 and 2018\",\n",
    "    legend=False,\n",
    "    xlabel=\"Year\",\n",
    "    ylabel=\"Avg cmb_mpg\",\n",
    "    rot=0\n",
    ");"
   ]
  },
  {
   "cell_type": "markdown",
   "metadata": {},
   "source": [
    "### Q4: What features are associated with better fuel economy?"
   ]
  },
  {
   "cell_type": "markdown",
   "metadata": {},
   "source": [
    "You can explore trends between cmb_mpg and the other features in this dataset, or filter this dataset like in the previous question and explore the properties of that dataset. For example, you can select all vehicles that have the top 50% fuel economy ratings like this."
   ]
  },
  {
   "cell_type": "code",
   "execution_count": null,
   "metadata": {
    "tags": []
   },
   "outputs": [],
   "source": [
    "# Create the top 50% by finding cmb_mpg >= the average cmb_mpg\n",
    "# Create the bottom 50% by finding cmb_mpg < the average cmb_mpg\n",
    "top_08 = \n",
    "bottom_08 = \n",
    "top_08.describe()"
   ]
  },
  {
   "cell_type": "code",
   "execution_count": null,
   "metadata": {
    "tags": []
   },
   "outputs": [],
   "source": [
    "# Create the top 50% by finding cmb_mpg >= the average cmb_mpg\n",
    "# Create the bottom 50% by finding cmb_mpg < the average cmb_mpg\n",
    "top_18 = \n",
    "bottom_18 = \n",
    "top_18.describe()"
   ]
  },
  {
   "cell_type": "code",
   "execution_count": null,
   "metadata": {
    "tags": []
   },
   "outputs": [],
   "source": [
    "# Plot a bar chart showing top and bottom metrics for 2008 and 2018\n",
    "# Make sure to use numeric_only=True when geting the mean as we only\n",
    "# want features that are numbers\n",
    "pd.DataFrame(\n",
    "    {\n",
    "        \"Bottom 2008\": bottom_08.mean(numeric_only=True),\n",
    "        \"Bottom 2018\": bottom_18.mean(numeric_only=True),\n",
    "        \"Top 2008\": top_08.mean(numeric_only=True),\n",
    "        \"Top 2018\": top_18.mean(numeric_only=True),\n",
    "    },\n",
    "    index=top_18.mean(numeric_only=True).index\n",
    ").plot(\n",
    "    kind=\"bar\",\n",
    "    title=\"Average Vehicle Features Separated by 50% Above or Below cmb_mpg\",\n",
    "    legend=True,\n",
    "    xlabel=\"Feature\",\n",
    "    ylabel=\"Average value of feature\",\n",
    "    rot=0,\n",
    "    figsize=(12, 8)\n",
    ");"
   ]
  }
 ],
 "metadata": {
  "kernelspec": {
   "display_name": "Python 3 (ipykernel)",
   "language": "python",
   "name": "python3"
  },
  "language_info": {
   "codemirror_mode": {
    "name": "ipython",
    "version": 3
   },
   "file_extension": ".py",
   "mimetype": "text/x-python",
   "name": "python",
   "nbconvert_exporter": "python",
   "pygments_lexer": "ipython3",
   "version": "3.8.7"
  }
 },
 "nbformat": 4,
 "nbformat_minor": 4
}
