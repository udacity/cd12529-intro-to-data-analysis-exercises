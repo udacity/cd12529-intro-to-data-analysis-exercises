{
 "cells": [
  {
   "cell_type": "markdown",
   "id": "2c258042-fa26-417a-8bd8-02f76fccb206",
   "metadata": {},
   "source": [
    "# Pandas Groupby\n",
    "The [groupby](https://pandas.pydata.org/docs/reference/api/pandas.DataFrame.groupby.html) method lets you group by one or more columns and perform specific aggregation calculations on DataFrames. We will experiment with this new method in the notebook below."
   ]
  },
  {
   "cell_type": "code",
   "execution_count": null,
   "id": "36c0d6de-c63e-4d44-ad1d-baff1f8b0596",
   "metadata": {
    "tags": []
   },
   "outputs": [],
   "source": [
    "# Load `census_income_data.csv`\n",
    "import pandas as pd\n",
    "\n",
    "df = pd.read_csv(\"census_income_data.csv\")"
   ]
  },
  {
   "cell_type": "code",
   "execution_count": null,
   "id": "0badf4be-5c8a-438b-9b2d-781420c22b5b",
   "metadata": {
    "tags": []
   },
   "outputs": [],
   "source": [
    "# view the columns available\n",
    "df.columns"
   ]
  },
  {
   "cell_type": "code",
   "execution_count": null,
   "id": "cac2ad41-c66a-4257-b0fa-00e7d07aadaa",
   "metadata": {
    "tags": []
   },
   "outputs": [],
   "source": [
    "# calculate the mean values for all numeric columns\n",
    "df.mean(numeric_only=True)"
   ]
  },
  {
   "cell_type": "code",
   "execution_count": null,
   "id": "88fd696b-970d-4bc6-a834-7ad3bedc631e",
   "metadata": {
    "tags": []
   },
   "outputs": [],
   "source": [
    "# groupby \"workclass\" to see the different mean values for all numeric columns\n",
    "df.groupby(\"workclass\").mean(numeric_only=True)"
   ]
  },
  {
   "cell_type": "code",
   "execution_count": null,
   "id": "b6c3e506-928b-4f6b-82eb-2c1fc121aec1",
   "metadata": {
    "tags": []
   },
   "outputs": [],
   "source": [
    "# groupby \"workclass\" and \"race\" to see the different mean values for all numeric columns\n",
    "df.groupby([\"workclass\", \"race\"]).mean(numeric_only=True)"
   ]
  },
  {
   "cell_type": "code",
   "execution_count": null,
   "id": "2a6dfef6-d19c-41db-9681-4f01e724d7e3",
   "metadata": {
    "tags": []
   },
   "outputs": [],
   "source": [
    "# set as_index=False to keep \"workclass\" and \"race\" as non index values\n",
    "# select just \"capital-gain\" to view only that column's mean\n",
    "df.groupby([\"workclass\", \"race\"], as_index=False)[\"capital-gain\"].mean()"
   ]
  }
 ],
 "metadata": {
  "kernelspec": {
   "display_name": "Python 3 (ipykernel)",
   "language": "python",
   "name": "python3"
  },
  "language_info": {
   "codemirror_mode": {
    "name": "ipython",
    "version": 3
   },
   "file_extension": ".py",
   "mimetype": "text/x-python",
   "name": "python",
   "nbconvert_exporter": "python",
   "pygments_lexer": "ipython3",
   "version": "3.10.10"
  }
 },
 "nbformat": 4,
 "nbformat_minor": 5
}
