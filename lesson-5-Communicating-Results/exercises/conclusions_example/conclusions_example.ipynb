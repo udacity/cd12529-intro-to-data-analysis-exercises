{
 "cells": [
  {
   "cell_type": "markdown",
   "id": "789321c5-a88c-404c-a932-e3704399cad1",
   "metadata": {},
   "source": [
    "# Drawing Conclusions Example\n",
    "Using descriptive statistics to answer some questions from the `cancer_data_edited.csv` dataset.  \n",
    "The question to solve for: Does the size of a tumor affect its malignancy? We'll create a layered histogram to better understand the differences between malignant and benign diagnosis."
   ]
  },
  {
   "cell_type": "code",
   "execution_count": null,
   "id": "6f83725a-708b-4f71-90a5-dba8d6ccc782",
   "metadata": {
    "tags": []
   },
   "outputs": [],
   "source": [
    "import pandas as pd\n",
    "import matplotlib.pyplot as plt"
   ]
  },
  {
   "cell_type": "code",
   "execution_count": null,
   "id": "556c8c68-2f24-409c-8aba-515c05c0f32b",
   "metadata": {
    "tags": []
   },
   "outputs": [],
   "source": [
    "# load the dataset\n",
    "df = pd.read_csv('cancer_data_edited.csv')\n",
    "df.head()"
   ]
  },
  {
   "cell_type": "code",
   "execution_count": null,
   "id": "906fda2e-a435-48e5-97e0-c722fb2dc19a",
   "metadata": {
    "tags": []
   },
   "outputs": [],
   "source": [
    "# Example of using a mask to filter our data\n",
    "mask = df['diagnosis'] == 'M'\n",
    "print(mask)"
   ]
  },
  {
   "cell_type": "code",
   "execution_count": null,
   "id": "e2e5c14a-8d0e-4aa1-800a-6fd024f86354",
   "metadata": {
    "tags": []
   },
   "outputs": [],
   "source": [
    "# Creating a sub dataset for malignant diagnosis\n",
    "df_m = df[df['diagnosis'] == 'M']\n",
    "df_m.head()"
   ]
  },
  {
   "cell_type": "code",
   "execution_count": null,
   "id": "2ad24b08-8a76-49dd-925a-4192afc6100c",
   "metadata": {
    "tags": []
   },
   "outputs": [],
   "source": [
    "# Summary statistics, take a look at the mean\n",
    "df_m['area'].describe()"
   ]
  },
  {
   "cell_type": "code",
   "execution_count": null,
   "id": "79b191d4-dc89-4882-9f74-a55d29bf702c",
   "metadata": {
    "tags": []
   },
   "outputs": [],
   "source": [
    "# Creating a sub dataset for benign diagnosis\n",
    "df_b = df[df['diagnosis'] == 'B']\n",
    "# Create the same summary stats\n",
    "df_b['area'].describe()"
   ]
  },
  {
   "cell_type": "code",
   "execution_count": null,
   "id": "2972b2af-94ed-475f-aadb-8cce26f718de",
   "metadata": {
    "tags": []
   },
   "outputs": [],
   "source": [
    "# Create a histogram plot\n",
    "# .hist() returns a matplotlib subplot\n",
    "# alpha changes it's transparency\n",
    "# figsize changes the figure size\n",
    "ax = df_b['area'].hist(alpha=0.5, figsize=(8, 6), label='benign');\n",
    "# Layer a new histogram using the same subplot that was returned as 'ax'\n",
    "df_m['area'].hist(alpha=0.5, figsize=(8, 6), label='malignant', ax=ax);\n",
    "# Label the subplot with titles and a legend\n",
    "ax.set_title('Distributions of Benign and Malignant Tumor Areas')\n",
    "ax.set_xlabel('Area');\n",
    "ax.set_ylabel('Count');\n",
    "ax.legend(loc='upper right');"
   ]
  }
 ],
 "metadata": {
  "kernelspec": {
   "display_name": "Python 3 (ipykernel)",
   "language": "python",
   "name": "python3"
  },
  "language_info": {
   "codemirror_mode": {
    "name": "ipython",
    "version": 3
   },
   "file_extension": ".py",
   "mimetype": "text/x-python",
   "name": "python",
   "nbconvert_exporter": "python",
   "pygments_lexer": "ipython3",
   "version": "3.10.10"
  }
 },
 "nbformat": 4,
 "nbformat_minor": 5
}
