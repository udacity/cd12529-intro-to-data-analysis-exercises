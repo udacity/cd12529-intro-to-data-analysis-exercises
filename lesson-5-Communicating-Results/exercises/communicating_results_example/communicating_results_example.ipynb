{
 "cells": [
  {
   "cell_type": "markdown",
   "id": "84d9d4d0-ac67-4c2e-89e8-def1bbd65e05",
   "metadata": {},
   "source": [
    "# Communicating Results Example\n",
    "Using the `census_income_data.csv` dataset, we'll practive using visualizations to help communicate our findings and help answer some questions a typical analyst would ask."
   ]
  },
  {
   "cell_type": "code",
   "execution_count": null,
   "id": "7e694af3-00cc-49c4-b75c-11575d1d4757",
   "metadata": {
    "tags": []
   },
   "outputs": [],
   "source": [
    "import pandas as pd"
   ]
  },
  {
   "cell_type": "code",
   "execution_count": null,
   "id": "90bd2473-3f8c-4880-8543-58ccb356be57",
   "metadata": {
    "tags": []
   },
   "outputs": [],
   "source": [
    "# Load the dataset\n",
    "df_census = pd.read_csv('census_income_data.csv')"
   ]
  },
  {
   "cell_type": "code",
   "execution_count": null,
   "id": "3667ccd4-079c-4e10-b712-48093a110b48",
   "metadata": {
    "tags": []
   },
   "outputs": [],
   "source": [
    "# Create two new DataFrames that are separated on people who make more or less than 50K\n",
    "df_a = df_census[df_census['income'] == ' >50K']\n",
    "df_b = df_census[df_census['income'] == ' <=50K']"
   ]
  },
  {
   "cell_type": "code",
   "execution_count": null,
   "id": "4baa8759-983b-441e-b84b-1e98de1908e6",
   "metadata": {
    "tags": []
   },
   "outputs": [],
   "source": [
    "# Get the value counts of education, we need the index to keep the order consistent for\n",
    "ind = df_a['education'].value_counts().index\n",
    "df_a['education'].value_counts()[ind].plot(kind='bar');"
   ]
  },
  {
   "cell_type": "code",
   "execution_count": null,
   "id": "508fa70c-5b97-4a4f-a533-d31bc5b037c6",
   "metadata": {
    "tags": []
   },
   "outputs": [],
   "source": [
    "# Use the same index to keep the order consistent\n",
    "df_b['education'].value_counts()[ind].plot(kind='bar');"
   ]
  },
  {
   "cell_type": "code",
   "execution_count": null,
   "id": "67e28674-6902-41c3-81b2-5dc11d6b0d07",
   "metadata": {
    "tags": []
   },
   "outputs": [],
   "source": [
    "# Get the value counts of workclass and create a pie chart for each group.\n",
    "# Use an index again to keep values in the same order\n",
    "ind = df_a['workclass'].value_counts().index\n",
    "df_a['workclass'].value_counts()[ind].plot(kind='pie', figsize=(8,8));"
   ]
  },
  {
   "cell_type": "code",
   "execution_count": null,
   "id": "f1ea846d-e98f-46ff-a211-d0769aa08c09",
   "metadata": {
    "tags": []
   },
   "outputs": [],
   "source": [
    "df_b['workclass'].value_counts()[ind].plot(kind='pie', figsize=(8,8));"
   ]
  },
  {
   "cell_type": "code",
   "execution_count": null,
   "id": "d5f5b828-6d04-4b51-ae05-e01e64a1ef63",
   "metadata": {
    "tags": []
   },
   "outputs": [],
   "source": [
    "# Create histograms of age for each group\n",
    "df_a['age'].hist();\n",
    "df_a['age'].describe()"
   ]
  },
  {
   "cell_type": "code",
   "execution_count": null,
   "id": "e2244565-f600-46c3-8b18-0bc731fa7141",
   "metadata": {
    "tags": []
   },
   "outputs": [],
   "source": [
    "df_b['age'].hist();\n",
    "df_b['age'].describe()"
   ]
  }
 ],
 "metadata": {
  "kernelspec": {
   "display_name": "Python 3 (ipykernel)",
   "language": "python",
   "name": "python3"
  },
  "language_info": {
   "codemirror_mode": {
    "name": "ipython",
    "version": 3
   },
   "file_extension": ".py",
   "mimetype": "text/x-python",
   "name": "python",
   "nbconvert_exporter": "python",
   "pygments_lexer": "ipython3",
   "version": "3.10.10"
  }
 },
 "nbformat": 4,
 "nbformat_minor": 5
}
