{
 "cells": [
  {
   "cell_type": "markdown",
   "id": "378250d1-e046-42b1-a2c3-a010603a2058",
   "metadata": {
    "tags": []
   },
   "source": [
    "# Measures of Spread in Pandas and Numpy\n",
    "Measures of spread are typically defined as quantiles, standard deviation, and variance. The goal is to find what and how much variation there is in your data. We can use `.quantile()`, `.std()`, and `.var()` on our DataFrame, Series, or Group to calculate these measurements.\n",
    "\n",
    "Explore this notebook using the `census_income_data.csv` dataset to answer questions from these methods. We'll utilize the groupby method again to facilitate our methodology."
   ]
  },
  {
   "cell_type": "code",
   "execution_count": null,
   "id": "bf730cca-6f39-4636-b309-2863e4f95418",
   "metadata": {
    "tags": []
   },
   "outputs": [],
   "source": [
    "import pandas as pd"
   ]
  },
  {
   "cell_type": "code",
   "execution_count": null,
   "id": "0cc4d979-a3f1-48d3-a372-0f86dc674f58",
   "metadata": {
    "tags": []
   },
   "outputs": [],
   "source": [
    "# Load the dataset\n",
    "df_census = pd.read_csv('census_income_data.csv')"
   ]
  },
  {
   "cell_type": "markdown",
   "id": "28a2b1a5-7adb-4988-ad2b-ceac31532deb",
   "metadata": {
    "tags": []
   },
   "source": [
    "## Using quantile on a DataFrame"
   ]
  },
  {
   "cell_type": "markdown",
   "id": "7115de3d-e314-4b07-bcc2-be7901e640f4",
   "metadata": {},
   "source": [
    "#### What was the 25%, 50%, 75%, 90%, and 95% quantile of capital gained and lost in our dataset?\n",
    "Let's use the `.quantile()` method on our DataFrame to aggregate these totals at a high level.\n",
    "\n",
    "Wow! We had to get to the 95% quantile to show any `capital-gain`. This means at least 90% of our dataset never bought or sold any assets, 0 `capital-gain` and 0 `capital-loss`."
   ]
  },
  {
   "cell_type": "code",
   "execution_count": null,
   "id": "e29b4eac-d94d-425a-b781-98482efd09d2",
   "metadata": {
    "tags": []
   },
   "outputs": [],
   "source": [
    "df_census[[\"capital-gain\", \"capital-loss\"]].quantile(q=[0.25, 0.5, 0.75, 0.9, 0.95])"
   ]
  },
  {
   "cell_type": "markdown",
   "id": "9b9fb7d5-f3a8-401f-b586-d0c43abac435",
   "metadata": {
    "tags": []
   },
   "source": [
    "## Using Quantile, Standard Deviation, and Variance on a Group"
   ]
  },
  {
   "cell_type": "markdown",
   "id": "64337192-f2e3-45e7-9524-b8fee1ba4186",
   "metadata": {},
   "source": [
    "#### What are the different workclass types"
   ]
  },
  {
   "cell_type": "code",
   "execution_count": null,
   "id": "de2c059d-e2e4-42f6-95de-8f8f8b46b66d",
   "metadata": {
    "tags": []
   },
   "outputs": [],
   "source": [
    "df_census[\"workclass\"].value_counts()"
   ]
  },
  {
   "cell_type": "markdown",
   "id": "d08bd4d7-d021-482e-9185-7b32cbee94fe",
   "metadata": {},
   "source": [
    "#### If we group by 'workclass', what are some interesting questions and answers?\n",
    "We'll use `.quantile()`, `.std()`, `.var()` to see how the each metric tells a different story for each 'workclass'. For quantile, since we already know that most of the data is 0, we will only look at the 50%, 90%, and 95% quantiles. Let's focus only on \"age\", \"capital-gain\", \"capital-loss\", and \"hours-per-week\".\n",
    "\n",
    "We finally see some differences between different work classes for `capital-gain`. Notably `Self-emp-inc`, `Self-emp-not-inc`, and `Without-pay` have a larger portion of their group selling assets, `capital-gain` > 0 in the 90% quantile compared to the 95% quantile for others.\n",
    "\n",
    "What can you say about the `age` and `hours-per-week` quantiles for the different groups?"
   ]
  },
  {
   "cell_type": "code",
   "execution_count": null,
   "id": "a1699631-7a2f-4ae6-8989-3b7541ed9652",
   "metadata": {
    "tags": []
   },
   "outputs": [],
   "source": [
    "df_census.groupby(by=\"workclass\")[[\"age\", \"capital-gain\", \"capital-loss\", \"hours-per-week\"]].quantile(q=[0.5, 0.9, 0.95])"
   ]
  },
  {
   "cell_type": "markdown",
   "id": "4ed9fefc-fdb1-4ddf-817d-a14c27c591e8",
   "metadata": {},
   "source": [
    "Standard deviation is useful when paired with mean, as it will tell you how distributed you data is in relation to the mean.\n",
    "\n",
    "For \"age\", \"capital-gain\", \"capital-loss\", and \"hours-per-week\", you can see that `Self-emp-inc` and `Self-emp-not-inc` are heavily distributed across all measurements.\n",
    "An interesting observation is that the mean `hours-per-week` for all government groups are similar, but their standard deviations are different. Federal positions have the lowest standard deviation of the three, how would you interpret that?"
   ]
  },
  {
   "cell_type": "code",
   "execution_count": null,
   "id": "14181113-6ff2-4c4a-b4d0-c2a7dedf71d9",
   "metadata": {
    "tags": []
   },
   "outputs": [],
   "source": [
    "df_census.groupby(by=\"workclass\")[[\"age\", \"capital-gain\", \"capital-loss\", \"hours-per-week\"]].mean()"
   ]
  },
  {
   "cell_type": "code",
   "execution_count": null,
   "id": "369974fa-d4e7-416e-ad97-96912294479b",
   "metadata": {
    "tags": []
   },
   "outputs": [],
   "source": [
    "df_census.groupby(by=\"workclass\")[[\"age\", \"capital-gain\", \"capital-loss\", \"hours-per-week\"]].std()"
   ]
  },
  {
   "cell_type": "markdown",
   "id": "4689b017-01c9-475a-8da3-b3846a3a4194",
   "metadata": {},
   "source": [
    "Because of how variance is calculated (squaring of the standard deviation), it can be used to help spot distributions with outliers. Look again at the three government groups. It appears the state government group is more widly spread than the other two. Maybe the outliers in the group are more obvious?\n",
    "\n",
    "Some additional notes about variance:\n",
    " - While using variance to spot outliers can be used, there are better methods available, such as interquartile range (IQR) or median absolute deviation (MAD).\n",
    " - Variance is important in other areas, like calculating confidence intervals, data normalization, testing hypotheses, and assessing the quality of statistical models."
   ]
  },
  {
   "cell_type": "code",
   "execution_count": null,
   "id": "fe3ad54d-7da8-471c-bc37-eb224d31bb78",
   "metadata": {
    "tags": []
   },
   "outputs": [],
   "source": [
    "df_census.groupby(by=\"workclass\")[[\"age\", \"capital-gain\", \"capital-loss\", \"hours-per-week\"]].var()"
   ]
  },
  {
   "cell_type": "markdown",
   "id": "d1c896bf-2253-4f03-9623-a9532cae45dc",
   "metadata": {},
   "source": [
    "Remember that we can use the `.describe()` method on groups to produce many of these measurements. We can also use the `percentiles` parameter to customize which quantiles we want to target."
   ]
  },
  {
   "cell_type": "code",
   "execution_count": null,
   "id": "23a54012-c160-47eb-b332-2b2b0c10bac5",
   "metadata": {
    "tags": []
   },
   "outputs": [],
   "source": [
    "df_census.groupby(by=\"workclass\")[[\"capital-gain\", \"capital-loss\"]].describe(percentiles=[0.5, 0.9, 0.95])"
   ]
  }
 ],
 "metadata": {
  "kernelspec": {
   "display_name": "Python 3 (ipykernel)",
   "language": "python",
   "name": "python3"
  },
  "language_info": {
   "codemirror_mode": {
    "name": "ipython",
    "version": 3
   },
   "file_extension": ".py",
   "mimetype": "text/x-python",
   "name": "python",
   "nbconvert_exporter": "python",
   "pygments_lexer": "ipython3",
   "version": "3.10.10"
  }
 },
 "nbformat": 4,
 "nbformat_minor": 5
}
