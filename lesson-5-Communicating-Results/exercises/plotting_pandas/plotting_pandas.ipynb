{
 "cells": [
  {
   "cell_type": "markdown",
   "id": "355fe0c1-7323-43c8-afc7-37e3084c8e35",
   "metadata": {},
   "source": [
    "# Plotting With Pandas\n",
    "Pandas contains common and useful plotting methods you can use directly on your DataFrame. Walk through the notebook to see how each cell produces the graph in question."
   ]
  },
  {
   "cell_type": "code",
   "execution_count": null,
   "id": "ef9c3c45-ed55-4b8d-b482-bf5880522669",
   "metadata": {
    "tags": []
   },
   "outputs": [],
   "source": [
    "import pandas as pd"
   ]
  },
  {
   "cell_type": "code",
   "execution_count": null,
   "id": "93c4360b-f9d6-4437-a4a2-1bc1001d0850",
   "metadata": {
    "tags": []
   },
   "outputs": [],
   "source": [
    "df_census = pd.read_csv('census_income_data.csv')\n",
    "df_census.info()"
   ]
  },
  {
   "cell_type": "code",
   "execution_count": null,
   "id": "8f1172ae-7eef-45fd-9cc3-18ba7e73104b",
   "metadata": {
    "tags": []
   },
   "outputs": [],
   "source": [
    "# Histogram of all columns\n",
    "df_census.hist(figsize=(8, 8));"
   ]
  },
  {
   "cell_type": "code",
   "execution_count": null,
   "id": "e75d09f9-f0b8-429a-9d38-a7546f0c20cb",
   "metadata": {
    "tags": []
   },
   "outputs": [],
   "source": [
    "# Histogram of the age column\n",
    "df_census['age'].hist();"
   ]
  },
  {
   "cell_type": "code",
   "execution_count": null,
   "id": "819f35d8-8f9b-4c99-8e78-33ab5a79e5c0",
   "metadata": {
    "tags": []
   },
   "outputs": [],
   "source": [
    "# Histogram of the age column using plot()\n",
    "df_census['age'].plot(kind='hist');"
   ]
  },
  {
   "cell_type": "code",
   "execution_count": null,
   "id": "bbd71d93-e9d4-403f-b94c-4d4893f26aa6",
   "metadata": {
    "tags": []
   },
   "outputs": [],
   "source": [
    "# Bar chart of education\n",
    "df_census['education'].value_counts().plot(kind='bar');"
   ]
  },
  {
   "cell_type": "code",
   "execution_count": null,
   "id": "15f922c4-ffa2-44bf-babf-fd7a0b6d2647",
   "metadata": {
    "tags": []
   },
   "outputs": [],
   "source": [
    "# Pie chart of workclass\n",
    "df_census['workclass'].value_counts().plot(kind='pie', figsize=(8, 8));"
   ]
  },
  {
   "cell_type": "code",
   "execution_count": null,
   "id": "6a9f4db7-05ff-45f7-81df-b930a17ea52b",
   "metadata": {
    "tags": []
   },
   "outputs": [],
   "source": [
    "df_cancer = pd.read_csv('cancer_data_edited.csv')\n",
    "df_cancer.info()"
   ]
  },
  {
   "cell_type": "code",
   "execution_count": null,
   "id": "0342e6cd-fe2f-42e8-89e0-ea769673ad2d",
   "metadata": {
    "tags": []
   },
   "outputs": [],
   "source": [
    "# Scatter plot of all columns\n",
    "pd.plotting.scatter_matrix(df_cancer, figsize=(15, 15));"
   ]
  },
  {
   "cell_type": "code",
   "execution_count": null,
   "id": "a1af382b-1f1a-42cc-a3ee-d6381ad4c3fc",
   "metadata": {
    "tags": []
   },
   "outputs": [],
   "source": [
    "# Scatter plot of two columns, compactness and concavity\n",
    "df_cancer.plot(x='compactness', y='concavity', kind='scatter');"
   ]
  },
  {
   "cell_type": "code",
   "execution_count": null,
   "id": "e933c336-2263-48de-afa5-34355f5509cc",
   "metadata": {
    "tags": []
   },
   "outputs": [],
   "source": [
    "# Box plot of concave_points\n",
    "df_cancer['concave_points'].plot(kind='box');"
   ]
  }
 ],
 "metadata": {
  "kernelspec": {
   "display_name": "Python 3 (ipykernel)",
   "language": "python",
   "name": "python3"
  },
  "language_info": {
   "codemirror_mode": {
    "name": "ipython",
    "version": 3
   },
   "file_extension": ".py",
   "mimetype": "text/x-python",
   "name": "python",
   "nbconvert_exporter": "python",
   "pygments_lexer": "ipython3",
   "version": "3.10.10"
  }
 },
 "nbformat": 4,
 "nbformat_minor": 5
}
