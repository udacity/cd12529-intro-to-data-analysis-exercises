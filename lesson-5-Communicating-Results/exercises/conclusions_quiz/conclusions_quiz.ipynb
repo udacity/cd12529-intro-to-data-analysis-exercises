{
 "cells": [
  {
   "cell_type": "markdown",
   "metadata": {},
   "source": [
    "# Drawing Conclusions Quiz\n",
    "Use the space below to explore the `store_data.csv` dataset to answer the quiz questions below.\n",
    "  * Which store has the highest total sales for the final month of data?\n",
    "  * Which store makes the most sales on average?\n",
    "  * Which store sells the most during the week of March 13th, 2016?\n",
    "  * In what week does store C make its worst sales?\n",
    "  * Which store has the most sales in the latest 3-month period?\n"
   ]
  },
  {
   "cell_type": "code",
   "execution_count": null,
   "metadata": {
    "tags": []
   },
   "outputs": [],
   "source": [
    "# imports and load data\n",
    "import pandas as pd\n",
    "\n",
    "df = \n",
    "df.head()"
   ]
  },
  {
   "cell_type": "code",
   "execution_count": null,
   "metadata": {
    "tags": []
   },
   "outputs": [],
   "source": [
    "# explore data by creating histograms on the entire DataFrame\n",
    "df."
   ]
  },
  {
   "cell_type": "code",
   "execution_count": null,
   "metadata": {
    "tags": []
   },
   "outputs": [],
   "source": [
    "# Use tail to find the end of the dataset to locate where the last month is via its index\n"
   ]
  },
  {
   "cell_type": "code",
   "execution_count": null,
   "metadata": {
    "tags": []
   },
   "outputs": [],
   "source": [
    "# Use iloc to create a slice of the last month and sum up the weeks\n",
    "# to find the total sales for the last month\n"
   ]
  },
  {
   "cell_type": "code",
   "execution_count": null,
   "metadata": {
    "tags": []
   },
   "outputs": [],
   "source": [
    "# Use the mean method to find the average sales for each store\n"
   ]
  },
  {
   "cell_type": "code",
   "execution_count": null,
   "metadata": {
    "tags": []
   },
   "outputs": [],
   "source": [
    "# Find the sales of all stores by filtering on the week of march 13, 2016\n",
    "df[]"
   ]
  },
  {
   "cell_type": "code",
   "execution_count": null,
   "metadata": {
    "tags": []
   },
   "outputs": [],
   "source": [
    "# Use the min method to filter the dataset to find the worst week for store C\n",
    "df[]"
   ]
  },
  {
   "cell_type": "code",
   "execution_count": null,
   "metadata": {
    "tags": []
   },
   "outputs": [],
   "source": [
    "# Filter the DataFrame on the most recent 3 month period. You can filter by selecting\n",
    "# greater than or equal to 2017-12-01\n",
    "last_three_months = \n",
    "# Find the total sales during this 3 month \n",
    "last_three_months.iloc[:, 1:].sum()  # exclude sum of week column"
   ]
  }
 ],
 "metadata": {
  "kernelspec": {
   "display_name": "Python 3 (ipykernel)",
   "language": "python",
   "name": "python3"
  },
  "language_info": {
   "codemirror_mode": {
    "name": "ipython",
    "version": 3
   },
   "file_extension": ".py",
   "mimetype": "text/x-python",
   "name": "python",
   "nbconvert_exporter": "python",
   "pygments_lexer": "ipython3",
   "version": "3.8.7"
  }
 },
 "nbformat": 4,
 "nbformat_minor": 4
}
