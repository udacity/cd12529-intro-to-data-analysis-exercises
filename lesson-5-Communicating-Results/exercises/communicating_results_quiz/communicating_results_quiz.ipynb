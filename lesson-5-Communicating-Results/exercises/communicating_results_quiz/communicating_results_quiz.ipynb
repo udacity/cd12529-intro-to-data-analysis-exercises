{
 "cells": [
  {
   "cell_type": "markdown",
   "metadata": {},
   "source": [
    "# Communicating Results Practice\n",
    "With the `store_data.csv` dataset, answer the same questions as we did in the \"Drawing Conclusions Quiz\", but using all the visualizations we've learned to communicate our findings. As a reminder, the questions are below:\n",
    "  * Which store has the highest total sales for the last month?\n",
    "  * Which store makes the most sales on average?\n",
    "  * Which store sells the most during the week of March 13th, 2016?\n",
    "  * Which store has the most sales in the latest 3-month period?\n"
   ]
  },
  {
   "cell_type": "code",
   "execution_count": null,
   "metadata": {
    "tags": []
   },
   "outputs": [],
   "source": [
    "# imports\n",
    "import pandas as pd"
   ]
  },
  {
   "cell_type": "code",
   "execution_count": null,
   "metadata": {
    "tags": []
   },
   "outputs": [],
   "source": [
    "# load data\n",
    "df = \n",
    "df.head()"
   ]
  },
  {
   "cell_type": "code",
   "execution_count": null,
   "metadata": {
    "tags": []
   },
   "outputs": [],
   "source": [
    "# Use tail to find the end of the dataset to locate where the last month is via its index\n"
   ]
  },
  {
   "cell_type": "code",
   "execution_count": null,
   "metadata": {
    "tags": []
   },
   "outputs": [],
   "source": [
    "# plot the sales for the last month using a bar chart\n",
    "df."
   ]
  },
  {
   "cell_type": "code",
   "execution_count": null,
   "metadata": {
    "tags": []
   },
   "outputs": [],
   "source": [
    "# plot the average sales for each store\n",
    "# show a horizontal bar chart here for variety\n",
    "# use 'barh' to create a horizontal bar char.\n",
    "df."
   ]
  },
  {
   "cell_type": "code",
   "execution_count": null,
   "metadata": {
    "tags": []
   },
   "outputs": [],
   "source": [
    "# plot sales for the week of March 13th, 2016 using a bar chart\n",
    "sales = \n",
    "sales."
   ]
  },
  {
   "cell_type": "code",
   "execution_count": null,
   "metadata": {
    "tags": []
   },
   "outputs": [],
   "source": [
    "# share of sales for the lastest 3-month periods using a pie chart\n",
    "last_three_months =\n",
    "last_three_months."
   ]
  }
 ],
 "metadata": {
  "kernelspec": {
   "display_name": "Python 3 (ipykernel)",
   "language": "python",
   "name": "python3"
  },
  "language_info": {
   "codemirror_mode": {
    "name": "ipython",
    "version": 3
   },
   "file_extension": ".py",
   "mimetype": "text/x-python",
   "name": "python",
   "nbconvert_exporter": "python",
   "pygments_lexer": "ipython3",
   "version": "3.8.7"
  }
 },
 "nbformat": 4,
 "nbformat_minor": 4
}
